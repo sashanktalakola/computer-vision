{
 "cells": [
  {
   "cell_type": "code",
   "execution_count": null,
   "id": "0987d67d-287a-4899-9693-882a6e32ef7b",
   "metadata": {},
   "outputs": [],
   "source": [
    "import torch\n",
    "import torch.nn as nn\n",
    "\n",
    "# Define the convolutional block\n",
    "class ConvBlock(nn.Module):\n",
    "    def __init__(self, in_channels, out_channels, stride=1, batch_norm=True):\n",
    "        super(ConvBlock, self).__init__()\n",
    "        layers = []\n",
    "        layers.append(nn.Conv2d(in_channels, out_channels, kernel_size=3, stride=stride, padding=1, bias=False))\n",
    "        if batch_norm:\n",
    "            layers.append(nn.BatchNorm2d(out_channels))\n",
    "        layers.append(nn.LeakyReLU(0.1, inplace=True))\n",
    "        self.block = nn.Sequential(*layers)\n",
    "\n",
    "    def forward(self, x):\n",
    "        return self.block(x)\n",
    "\n",
    "# Define the residual block used in Darknet-53\n",
    "class ResidualBlock(nn.Module):\n",
    "    def __init__(self, in_channels, out_channels):\n",
    "        super(ResidualBlock, self).__init__()\n",
    "        self.conv1 = ConvBlock(in_channels, out_channels // 2, stride=1)\n",
    "        self.conv2 = ConvBlock(out_channels // 2, out_channels, stride=1, batch_norm=True)\n",
    "\n",
    "    def forward(self, x):\n",
    "        return x + self.conv2(self.conv1(x))\n",
    "\n",
    "# Define the Darknet-53 backbone\n",
    "class Darknet53(nn.Module):\n",
    "    def __init__(self):\n",
    "        super(Darknet53, self).__init__()\n",
    "        self.layer1 = self._make_layer(3, 32, num_blocks=1)\n",
    "        self.layer2 = self._make_layer(32, 64, num_blocks=2)\n",
    "        self.layer3 = self._make_layer(64, 128, num_blocks=8)\n",
    "        self.layer4 = self._make_layer(128, 256, num_blocks=8)\n",
    "        self.layer5 = self._make_layer(256, 512, num_blocks=4)\n",
    "        self.layer6 = self._make_layer(512, 1024, num_blocks=4)\n",
    "\n",
    "        self.conv_final = ConvBlock(1024, 1024, stride=2)\n",
    "\n",
    "    def _make_layer(self, in_channels, out_channels, num_blocks):\n",
    "        layers = [ConvBlock(in_channels, out_channels, stride=2)]\n",
    "        for _ in range(num_blocks):\n",
    "            layers.append(ResidualBlock(out_channels, out_channels))\n",
    "        return nn.Sequential(*layers)\n",
    "\n",
    "    def forward(self, x):\n",
    "        x = self.layer1(x)\n",
    "        x = self.layer2(x)\n",
    "        x = self.layer3(x)\n",
    "        x = self.layer4(x)\n",
    "        x = self.layer5(x)\n",
    "        x = self.layer6(x)\n",
    "        x = self.conv_final(x)\n",
    "        return x\n"
   ]
  },
  {
   "cell_type": "code",
   "execution_count": null,
   "id": "0f348a35-73a1-4cae-9781-7411d6c9ea9f",
   "metadata": {},
   "outputs": [],
   "source": []
  },
  {
   "cell_type": "code",
   "execution_count": null,
   "id": "7c3ed1c3-8c96-4a61-9d0f-761776076746",
   "metadata": {},
   "outputs": [],
   "source": []
  }
 ],
 "metadata": {
  "kernelspec": {
   "display_name": "Python 3 (ipykernel)",
   "language": "python",
   "name": "python3"
  },
  "language_info": {
   "codemirror_mode": {
    "name": "ipython",
    "version": 3
   },
   "file_extension": ".py",
   "mimetype": "text/x-python",
   "name": "python",
   "nbconvert_exporter": "python",
   "pygments_lexer": "ipython3",
   "version": "3.12.3"
  }
 },
 "nbformat": 4,
 "nbformat_minor": 5
}
