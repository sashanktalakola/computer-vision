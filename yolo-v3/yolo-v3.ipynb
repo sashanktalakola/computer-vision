{
 "cells": [
  {
   "cell_type": "code",
   "execution_count": null,
   "id": "35719bae-f078-4a7e-8ca8-53fec71eb4de",
   "metadata": {},
   "outputs": [],
   "source": [
    "import torch\n",
    "import torch.nn as nn\n",
    "\n",
    "# Define the YOLOv3 model, which combines Darknet53 and the detection head\n",
    "class YOLOv3(nn.Module):\n",
    "    def __init__(self, num_classes):\n",
    "        super(YOLOv3, self).__init__()\n",
    "        self.backbone = Darknet53()  # implemented in darnet-53.ipynb\n",
    "\n",
    "        # Detection head (3 detection layers, for each scale)\n",
    "        self.det_head = nn.ModuleList([\n",
    "            self._make_detection_head(1024, 3, num_classes),  # Detection head for 13x13 grid\n",
    "            self._make_detection_head(512, 3, num_classes),   # Detection head for 26x26 grid\n",
    "            self._make_detection_head(256, 3, num_classes)    # Detection head for 52x52 grid\n",
    "        ])\n",
    "\n",
    "    def _make_detection_head(self, in_channels, num_anchors, num_classes):\n",
    "        \"\"\"Creates a detection head for YOLOv3.\"\"\"\n",
    "        return nn.Sequential(\n",
    "            ConvBlock(in_channels, 512, stride=1),  # First convolution to reduce features\n",
    "            ConvBlock(512, 1024, stride=1),         # Second convolution for further processing\n",
    "            nn.Conv2d(1024, num_anchors * (4 + 1 + num_classes), kernel_size=1)  # Final output layer\n",
    "        )\n",
    "\n",
    "    def forward(self, x):\n",
    "        # Get features from Darknet53\n",
    "        features = self.backbone(x)\n",
    "\n",
    "        # Split the features into 3 different scales\n",
    "        # For YOLOv3, these come from different layers of the backbone\n",
    "        # at different resolutions (13x13, 26x26, 52x52)\n",
    "\n",
    "        output = []\n",
    "        for head in self.det_head:\n",
    "            output.append(head(features))\n",
    "\n",
    "        return output\n"
   ]
  }
 ],
 "metadata": {
  "kernelspec": {
   "display_name": "Python 3 (ipykernel)",
   "language": "python",
   "name": "python3"
  },
  "language_info": {
   "codemirror_mode": {
    "name": "ipython",
    "version": 3
   },
   "file_extension": ".py",
   "mimetype": "text/x-python",
   "name": "python",
   "nbconvert_exporter": "python",
   "pygments_lexer": "ipython3",
   "version": "3.12.3"
  }
 },
 "nbformat": 4,
 "nbformat_minor": 5
}
