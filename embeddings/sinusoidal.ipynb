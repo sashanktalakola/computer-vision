{
 "cells": [
  {
   "cell_type": "code",
   "execution_count": 1,
   "id": "a1a719d6-5803-4df4-aa5c-b9e4162e5e3c",
   "metadata": {},
   "outputs": [],
   "source": [
    "import torch\n",
    "import math"
   ]
  },
  {
   "cell_type": "code",
   "execution_count": 2,
   "id": "4a6cbab1-93b4-4312-9212-07492058006d",
   "metadata": {},
   "outputs": [],
   "source": [
    "class SinusoidalPositionalEmbedding(torch.nn.Module):\n",
    "    def __init__(self, num_positions, embedding_dim):\n",
    "        super(SinusoidalPositionalEmbedding, self).__init__()\n",
    "        \n",
    "        # num_positions: Length of the input sequence (max positions)\n",
    "        # embedding_dim: The dimensionality of the positional encoding\n",
    "        \n",
    "        self.num_positions = num_positions\n",
    "        self.embedding_dim = embedding_dim\n",
    "        \n",
    "        # Initialize the positional encoding matrix\n",
    "        pe = torch.zeros(num_positions, embedding_dim)\n",
    "        \n",
    "        # Create the positional encodings using sin and cos\n",
    "        position = torch.arange(0, num_positions).unsqueeze(1).float()  # Shape (num_positions, 1)\n",
    "        div_term = torch.exp(torch.arange(0, embedding_dim, 2).float() * -(math.log(10000.0) / embedding_dim))  # Shape (embedding_dim//2)\n",
    "        \n",
    "        pe[:, 0::2] = torch.sin(position * div_term)  # Apply sine to even indices (0, 2, 4,...)\n",
    "        pe[:, 1::2] = torch.cos(position * div_term)  # Apply cosine to odd indices (1, 3, 5,...)\n",
    "        \n",
    "        # Add an extra dimension for batch size\n",
    "        pe = pe.unsqueeze(0)  # Shape (1, num_positions, embedding_dim)\n",
    "        \n",
    "        # Register the positional encoding as a buffer (no parameters to update)\n",
    "        self.register_buffer('pe', pe)\n",
    "\n",
    "    def forward(self, x):\n",
    "        # x is the input tensor with shape (batch_size, seq_len, embedding_dim)\n",
    "        # Add positional encoding to the input embedding\n",
    "        return x + self.pe[:, :x.size(1), :]\n"
   ]
  }
 ],
 "metadata": {
  "kernelspec": {
   "display_name": "Python 3 (ipykernel)",
   "language": "python",
   "name": "python3"
  },
  "language_info": {
   "codemirror_mode": {
    "name": "ipython",
    "version": 3
   },
   "file_extension": ".py",
   "mimetype": "text/x-python",
   "name": "python",
   "nbconvert_exporter": "python",
   "pygments_lexer": "ipython3",
   "version": "3.12.3"
  }
 },
 "nbformat": 4,
 "nbformat_minor": 5
}
