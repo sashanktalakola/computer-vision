{
 "cells": [
  {
   "cell_type": "code",
   "execution_count": null,
   "id": "798ec6c8-a3fc-41d9-9a5f-4dc8856baf69",
   "metadata": {},
   "outputs": [],
   "source": [
    "import torch\n",
    "import torch.nn as nn"
   ]
  },
  {
   "cell_type": "code",
   "execution_count": null,
   "id": "ff62ae5d-1f64-4e82-a044-6bf2bb977f39",
   "metadata": {},
   "outputs": [],
   "source": [
    "class LearnablePositionalEmbedding(nn.Module):\n",
    "    def __init__(self, seq_len, embedding_dim):\n",
    "        \"\"\"\n",
    "        max_seq_len: Maximum sequence length the model can handle.\n",
    "        embedding_dim: Dimension of the token embeddings.\n",
    "        \"\"\"\n",
    "        super(LearnablePositionalEmbedding, self).__init__()\n",
    "\n",
    "        # Initialize the positional embeddings matrix as a learnable parameter\n",
    "        # Shape: (max_seq_len, embedding_dim)\n",
    "        self.positional_embeddings = nn.Parameter(torch.randn(seq_len, embedding_dim))\n",
    "\n",
    "    def forward(self, x):\n",
    "        \"\"\"\n",
    "        x: Tensor of token embeddings of shape (batch_size, seq_len, embedding_dim)\n",
    "        \"\"\"\n",
    "        batch_size, seq_len, embedding_dim = x.shape\n",
    "        \n",
    "        # Ensure positional embeddings are only added to the sequence length dimension\n",
    "        # Slice the positional embeddings matrix to match the current sequence length\n",
    "        positional_embedding = self.positional_embeddings[:seq_len, :].unsqueeze(0)  # Shape: (1, seq_len, embedding_dim)\n",
    "        \n",
    "        # Add the positional embeddings to the input token embeddings\n",
    "        return x + positional_embedding  # Shape: (batch_size, seq_len, embedding_dim)\n"
   ]
  }
 ],
 "metadata": {
  "kernelspec": {
   "display_name": "Python 3 (ipykernel)",
   "language": "python",
   "name": "python3"
  },
  "language_info": {
   "codemirror_mode": {
    "name": "ipython",
    "version": 3
   },
   "file_extension": ".py",
   "mimetype": "text/x-python",
   "name": "python",
   "nbconvert_exporter": "python",
   "pygments_lexer": "ipython3",
   "version": "3.12.3"
  }
 },
 "nbformat": 4,
 "nbformat_minor": 5
}
