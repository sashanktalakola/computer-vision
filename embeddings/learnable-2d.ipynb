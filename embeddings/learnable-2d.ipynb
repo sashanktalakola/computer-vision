{
 "cells": [
  {
   "cell_type": "code",
   "execution_count": null,
   "id": "b3f59b1b-f2fe-468d-84ee-d72f40d08444",
   "metadata": {},
   "outputs": [],
   "source": [
    "import torch\n",
    "import torch.nn as nn"
   ]
  },
  {
   "cell_type": "code",
   "execution_count": null,
   "id": "6a860bfb-0892-4b7f-a593-1538b7173b54",
   "metadata": {},
   "outputs": [],
   "source": [
    "class Learned2DPositionalEmbedding(nn.Module):\n",
    "    def __init__(self, num_patches, patch_size, embedding_dim):\n",
    "        super(Learned2DPositionalEmbedding, self).__init__()\n",
    "\n",
    "        # Calculate the number of rows and columns in the patch grid\n",
    "        self.grid_size = int(num_patches ** 0.5)  # Assuming square grid\n",
    "\n",
    "        # Initialize learned positional embeddings for rows and columns\n",
    "        # Row embeddings (one per row)\n",
    "        self.row_embeddings = nn.Parameter(torch.randn(self.grid_size, embedding_dim))\n",
    "        # Column embeddings (one per column)\n",
    "        self.col_embeddings = nn.Parameter(torch.randn(self.grid_size, embedding_dim))\n",
    "\n",
    "    def forward(self, x):\n",
    "        \"\"\"\n",
    "        x: Patch embeddings of shape (batch_size, num_patches, embedding_dim)\n",
    "        \"\"\"\n",
    "        batch_size, num_patches, embedding_dim = x.shape\n",
    "\n",
    "        # Reshape the patch indices to match the 2D grid\n",
    "        row_indices = torch.arange(self.grid_size).repeat(self.grid_size, 1).view(-1)  # Shape: (num_patches,)\n",
    "        col_indices = torch.arange(self.grid_size).repeat(self.grid_size, 1).t().contiguous().view(-1)  # Shape: (num_patches,)\n",
    "\n",
    "        # Gather the row and column embeddings\n",
    "        row_positional_embeddings = self.row_embeddings[row_indices]\n",
    "        col_positional_embeddings = self.col_embeddings[col_indices]\n",
    "\n",
    "        # Combine row and column positional embeddings by summing them\n",
    "        positional_embeddings = row_positional_embeddings + col_positional_embeddings  # Shape: (num_patches, embedding_dim)\n",
    "\n",
    "        # Add the positional embeddings to the patch embeddings\n",
    "        return x + positional_embeddings.unsqueeze(0)  # Shape: (batch_size, num_patches, embedding_dim)\n"
   ]
  }
 ],
 "metadata": {
  "kernelspec": {
   "display_name": "Python 3 (ipykernel)",
   "language": "python",
   "name": "python3"
  },
  "language_info": {
   "codemirror_mode": {
    "name": "ipython",
    "version": 3
   },
   "file_extension": ".py",
   "mimetype": "text/x-python",
   "name": "python",
   "nbconvert_exporter": "python",
   "pygments_lexer": "ipython3",
   "version": "3.12.3"
  }
 },
 "nbformat": 4,
 "nbformat_minor": 5
}
