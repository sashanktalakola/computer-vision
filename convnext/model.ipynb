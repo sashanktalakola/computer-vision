{
 "cells": [
  {
   "cell_type": "code",
   "execution_count": null,
   "id": "1141a4ad-5685-41a6-88fe-2d9e62692a57",
   "metadata": {},
   "outputs": [],
   "source": [
    "import torch\n",
    "import torch.nn as nn\n",
    "import torch.nn.functional as F"
   ]
  },
  {
   "cell_type": "code",
   "execution_count": null,
   "id": "46b15832-ad1e-4056-b263-a119709a94a9",
   "metadata": {},
   "outputs": [],
   "source": []
  },
  {
   "cell_type": "code",
   "execution_count": null,
   "id": "da83f02d-ca57-4624-bca3-6087f1509eb2",
   "metadata": {},
   "outputs": [],
   "source": [
    "class ConvNeXtBlock(nn.Module):\n",
    "    def __init__(self, in_channels, out_channels, kernel_size=7, stride=1, expansion=4):\n",
    "        super(ConvNeXtBlock, self).__init__()\n",
    "        \n",
    "        # Depthwise Separable Convolution (Conv + Depthwise + Pointwise)\n",
    "        self.conv1 = nn.Conv2d(in_channels, in_channels * expansion, kernel_size=kernel_size, stride=stride, padding=kernel_size//2, groups=in_channels)\n",
    "        self.conv2 = nn.Conv2d(in_channels * expansion, out_channels, kernel_size=1)\n",
    "        \n",
    "        # Layer Normalization\n",
    "        self.ln1 = nn.LayerNorm(in_channels * expansion)\n",
    "        self.ln2 = nn.LayerNorm(out_channels)\n",
    "        \n",
    "        # GELU Activation\n",
    "        self.gelu = nn.GELU()\n",
    "        \n",
    "        # Skip Connection (Residual)\n",
    "        self.skip = nn.Conv2d(in_channels, out_channels, kernel_size=1, stride=stride) if in_channels != out_channels else nn.Identity()\n",
    "\n",
    "    def forward(self, x):\n",
    "        identity = x\n",
    "        \n",
    "        # Depthwise Separable Convolution Block\n",
    "        x = self.conv1(x)\n",
    "        x = self.ln1(x)\n",
    "        x = self.gelu(x)\n",
    "        x = self.conv2(x)\n",
    "        x = self.ln2(x)\n",
    "        \n",
    "        # Adding Skip Connection (Residual)\n",
    "        x = x + self.skip(identity)\n",
    "        \n",
    "        return x"
   ]
  },
  {
   "cell_type": "code",
   "execution_count": null,
   "id": "a5004e02-f827-4600-9437-1da415c73f25",
   "metadata": {},
   "outputs": [],
   "source": []
  }
 ],
 "metadata": {
  "kernelspec": {
   "display_name": "Python 3 (ipykernel)",
   "language": "python",
   "name": "python3"
  },
  "language_info": {
   "codemirror_mode": {
    "name": "ipython",
    "version": 3
   },
   "file_extension": ".py",
   "mimetype": "text/x-python",
   "name": "python",
   "nbconvert_exporter": "python",
   "pygments_lexer": "ipython3",
   "version": "3.12.3"
  }
 },
 "nbformat": 4,
 "nbformat_minor": 5
}
