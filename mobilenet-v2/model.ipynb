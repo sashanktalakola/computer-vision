{
 "cells": [
  {
   "cell_type": "code",
   "execution_count": null,
   "id": "bb6b0547-5eda-4685-98ed-c07f9ed6072a",
   "metadata": {},
   "outputs": [],
   "source": [
    "import torch\n",
    "import torch.nn as nn\n",
    "import torch.nn.functional as F"
   ]
  },
  {
   "cell_type": "code",
   "execution_count": null,
   "id": "8bc2a867-4cd3-4a35-a1cb-428047c7a0f6",
   "metadata": {},
   "outputs": [],
   "source": []
  },
  {
   "cell_type": "code",
   "execution_count": null,
   "id": "0a132d9b-fb2c-4b91-b768-7c022fc222f6",
   "metadata": {},
   "outputs": [],
   "source": [
    "class InvertedResidual(nn.Module):\n",
    "    def __init__(self, in_channels, out_channels, stride, expand_ratio):\n",
    "        super(InvertedResidual, self).__init__()\n",
    "        \n",
    "        # The number of channels after expansion\n",
    "        hidden_dim = int(round(in_channels * expand_ratio))\n",
    "        \n",
    "        # If expand_ratio is 1, we skip the pointwise convolution\n",
    "        layers = []\n",
    "        \n",
    "        # Pointwise convolution (expand)\n",
    "        if expand_ratio != 1:\n",
    "            layers.append(nn.Conv2d(in_channels, hidden_dim, kernel_size=1, stride=1, padding=0, bias=False))\n",
    "            layers.append(nn.BatchNorm2d(hidden_dim))\n",
    "            layers.append(nn.ReLU6(inplace=True))  # ReLU6 is used\n",
    "        \n",
    "        # Depthwise convolution\n",
    "        layers.append(nn.Conv2d(hidden_dim, hidden_dim, kernel_size=3, stride=stride, padding=1, groups=hidden_dim, bias=False))\n",
    "        layers.append(nn.BatchNorm2d(hidden_dim))\n",
    "        layers.append(nn.ReLU6(inplace=True))\n",
    "        \n",
    "        # Pointwise convolution (linear bottleneck)\n",
    "        layers.append(nn.Conv2d(hidden_dim, out_channels, kernel_size=1, stride=1, padding=0, bias=False))\n",
    "        layers.append(nn.BatchNorm2d(out_channels))\n",
    "        \n",
    "        # Skip connection\n",
    "        self.block = nn.Sequential(*layers)\n",
    "        \n",
    "        # Skip connection if stride == 1 and input/output dimensions match\n",
    "        self.use_res_connect = (stride == 1 and in_channels == out_channels)\n",
    "    \n",
    "    def forward(self, x):\n",
    "        if self.use_res_connect:\n",
    "            return x + self.block(x)  # Residual connection\n",
    "        else:\n",
    "            return self.block(x)"
   ]
  },
  {
   "cell_type": "code",
   "execution_count": null,
   "id": "ea4eda82-3328-4002-a1a3-6b42ebb8d99e",
   "metadata": {},
   "outputs": [],
   "source": []
  },
  {
   "cell_type": "code",
   "execution_count": null,
   "id": "1fc76405-5631-4b07-8fb4-e164c4997bea",
   "metadata": {},
   "outputs": [],
   "source": [
    "class MobileNetV2(nn.Module):\n",
    "    def __init__(self, num_classes=1000):\n",
    "        super(MobileNetV2, self).__init__()\n",
    "        \n",
    "        # First Convolution layer\n",
    "        self.conv1 = nn.Conv2d(3, 32, kernel_size=3, stride=2, padding=1, bias=False)\n",
    "        self.bn1 = nn.BatchNorm2d(32)\n",
    "        \n",
    "        # MobileNetV2 blocks\n",
    "        self.features = nn.Sequential(\n",
    "            InvertedResidual(32, 16, stride=1, expand_ratio=1),\n",
    "            InvertedResidual(16, 24, stride=2, expand_ratio=6),\n",
    "            InvertedResidual(24, 24, stride=1, expand_ratio=6),\n",
    "            InvertedResidual(24, 32, stride=2, expand_ratio=6),\n",
    "            InvertedResidual(32, 32, stride=1, expand_ratio=6),\n",
    "            InvertedResidual(32, 64, stride=2, expand_ratio=6),\n",
    "            InvertedResidual(64, 64, stride=1, expand_ratio=6),\n",
    "            InvertedResidual(64, 64, stride=1, expand_ratio=6),\n",
    "            InvertedResidual(64, 96, stride=2, expand_ratio=6),\n",
    "            InvertedResidual(96, 96, stride=1, expand_ratio=6),\n",
    "            InvertedResidual(96, 160, stride=2, expand_ratio=6),\n",
    "            InvertedResidual(160, 160, stride=1, expand_ratio=6),\n",
    "            InvertedResidual(160, 320, stride=1, expand_ratio=6)\n",
    "        )\n",
    "        \n",
    "        # Final Convolution layer (1x1 convolution)\n",
    "        self.conv2 = nn.Conv2d(320, 1280, kernel_size=1, stride=1, padding=0, bias=False)\n",
    "        self.bn2 = nn.BatchNorm2d(1280)\n",
    "        \n",
    "        # Global Average Pooling\n",
    "        self.avgpool = nn.AdaptiveAvgPool2d(1)\n",
    "        \n",
    "        # Fully connected layer\n",
    "        self.fc = nn.Linear(1280, num_classes)\n",
    "    \n",
    "    def forward(self, x):\n",
    "        x = self.bn1(F.relu6(self.conv1(x)))  # Initial conv layer with ReLU6\n",
    "        x = self.features(x)  # Apply MobileNetV2 blocks\n",
    "        x = self.bn2(F.relu6(self.conv2(x)))  # Final conv layer with ReLU6\n",
    "        x = self.avgpool(x)  # Global Average Pooling\n",
    "        x = torch.flatten(x, 1)  # Flatten the output for the fully connected layer\n",
    "        x = self.fc(x)  # Fully connected output\n",
    "        return x\n"
   ]
  },
  {
   "cell_type": "code",
   "execution_count": null,
   "id": "2100c54a-387e-4732-9ccc-e9ed4c24033e",
   "metadata": {},
   "outputs": [],
   "source": []
  }
 ],
 "metadata": {
  "kernelspec": {
   "display_name": "Python 3 (ipykernel)",
   "language": "python",
   "name": "python3"
  },
  "language_info": {
   "codemirror_mode": {
    "name": "ipython",
    "version": 3
   },
   "file_extension": ".py",
   "mimetype": "text/x-python",
   "name": "python",
   "nbconvert_exporter": "python",
   "pygments_lexer": "ipython3",
   "version": "3.12.3"
  }
 },
 "nbformat": 4,
 "nbformat_minor": 5
}
