{
 "cells": [
  {
   "cell_type": "code",
   "execution_count": null,
   "id": "bb6b0547-5eda-4685-98ed-c07f9ed6072a",
   "metadata": {},
   "outputs": [],
   "source": [
    "import torch\n",
    "import torch.nn as nn\n",
    "import torch.nn.functional as F"
   ]
  },
  {
   "cell_type": "code",
   "execution_count": null,
   "id": "8bc2a867-4cd3-4a35-a1cb-428047c7a0f6",
   "metadata": {},
   "outputs": [],
   "source": []
  },
  {
   "cell_type": "code",
   "execution_count": null,
   "id": "0a132d9b-fb2c-4b91-b768-7c022fc222f6",
   "metadata": {},
   "outputs": [],
   "source": [
    "class InvertedResidual(nn.Module):\n",
    "    def __init__(self, in_channels, out_channels, stride, expand_ratio):\n",
    "        super(InvertedResidual, self).__init__()\n",
    "        \n",
    "        # The number of channels after expansion\n",
    "        hidden_dim = int(round(in_channels * expand_ratio))\n",
    "        \n",
    "        # If expand_ratio is 1, we skip the pointwise convolution\n",
    "        layers = []\n",
    "        \n",
    "        # Pointwise convolution (expand)\n",
    "        if expand_ratio != 1:\n",
    "            layers.append(nn.Conv2d(in_channels, hidden_dim, kernel_size=1, stride=1, padding=0, bias=False))\n",
    "            layers.append(nn.BatchNorm2d(hidden_dim))\n",
    "            layers.append(nn.ReLU6(inplace=True))  # ReLU6 is used\n",
    "        \n",
    "        # Depthwise convolution\n",
    "        layers.append(nn.Conv2d(hidden_dim, hidden_dim, kernel_size=3, stride=stride, padding=1, groups=hidden_dim, bias=False))\n",
    "        layers.append(nn.BatchNorm2d(hidden_dim))\n",
    "        layers.append(nn.ReLU6(inplace=True))\n",
    "        \n",
    "        # Pointwise convolution (linear bottleneck)\n",
    "        layers.append(nn.Conv2d(hidden_dim, out_channels, kernel_size=1, stride=1, padding=0, bias=False))\n",
    "        layers.append(nn.BatchNorm2d(out_channels))\n",
    "        \n",
    "        # Skip connection\n",
    "        self.block = nn.Sequential(*layers)\n",
    "        \n",
    "        # Skip connection if stride == 1 and input/output dimensions match\n",
    "        self.use_res_connect = (stride == 1 and in_channels == out_channels)\n",
    "    \n",
    "    def forward(self, x):\n",
    "        if self.use_res_connect:\n",
    "            return x + self.block(x)  # Residual connection\n",
    "        else:\n",
    "            return self.block(x)"
   ]
  },
  {
   "cell_type": "code",
   "execution_count": null,
   "id": "2100c54a-387e-4732-9ccc-e9ed4c24033e",
   "metadata": {},
   "outputs": [],
   "source": []
  }
 ],
 "metadata": {
  "kernelspec": {
   "display_name": "Python 3 (ipykernel)",
   "language": "python",
   "name": "python3"
  },
  "language_info": {
   "codemirror_mode": {
    "name": "ipython",
    "version": 3
   },
   "file_extension": ".py",
   "mimetype": "text/x-python",
   "name": "python",
   "nbconvert_exporter": "python",
   "pygments_lexer": "ipython3",
   "version": "3.12.3"
  }
 },
 "nbformat": 4,
 "nbformat_minor": 5
}
