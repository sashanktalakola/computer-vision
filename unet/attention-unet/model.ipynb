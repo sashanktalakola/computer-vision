{
 "cells": [
  {
   "cell_type": "code",
   "execution_count": null,
   "id": "403489c3-69f7-4a26-bf7f-b9dcd4a13f27",
   "metadata": {},
   "outputs": [],
   "source": [
    "import torch\n",
    "import torch.nn as nn\n",
    "import torch.nn.functional as F"
   ]
  },
  {
   "cell_type": "code",
   "execution_count": null,
   "id": "7950125d-5e1e-4f92-a619-31aae77db18b",
   "metadata": {},
   "outputs": [],
   "source": [
    "class ConvBlock(nn.Module):\n",
    "    def __init__(self, in_channels, out_channels):\n",
    "        super(ConvBlock, self).__init__()\n",
    "        self.conv1 = nn.Conv2d(in_channels, out_channels, kernel_size=3, padding=1)\n",
    "        self.conv2 = nn.Conv2d(out_channels, out_channels, kernel_size=3, padding=1)\n",
    "        self.bn1 = nn.BatchNorm2d(out_channels)\n",
    "        self.bn2 = nn.BatchNorm2d(out_channels)\n",
    "    \n",
    "    def forward(self, x):\n",
    "        x = F.relu(self.bn1(self.conv1(x)))\n",
    "        x = F.relu(self.bn2(self.conv2(x)))\n",
    "        return x"
   ]
  },
  {
   "cell_type": "code",
   "execution_count": null,
   "id": "23d77043-abf8-4746-84ff-2d1e32fafc1a",
   "metadata": {},
   "outputs": [],
   "source": []
  },
  {
   "cell_type": "code",
   "execution_count": null,
   "id": "871c48c1-b34d-40f7-ac0b-0da659450fea",
   "metadata": {},
   "outputs": [],
   "source": [
    "class DownBlock(nn.Module):\n",
    "    def __init__(self, in_channels, out_channels):\n",
    "        super(DownBlock, self).__init__()\n",
    "        self.conv_block = ConvBlock(in_channels, out_channels)\n",
    "        self.pool = nn.MaxPool2d(2)\n",
    "    \n",
    "    def forward(self, x):\n",
    "        x = self.conv_block(x)\n",
    "        p = self.pool(x)\n",
    "        return x, p"
   ]
  },
  {
   "cell_type": "code",
   "execution_count": null,
   "id": "e0755476-4d1e-4344-ade9-57829c57adf1",
   "metadata": {},
   "outputs": [],
   "source": []
  },
  {
   "cell_type": "code",
   "execution_count": null,
   "id": "e954d8ae-dfb1-41e4-9484-1aac813753a4",
   "metadata": {},
   "outputs": [],
   "source": [
    "class UpBlock(nn.Module):\n",
    "    def __init__(self, in_channels, out_channels):\n",
    "        super(UpBlock, self).__init__()\n",
    "        self.upconv = nn.ConvTranspose2d(in_channels, out_channels, kernel_size=2, stride=2)\n",
    "        self.conv_block = ConvBlock(in_channels, out_channels)\n",
    "    \n",
    "    def forward(self, x, skip):\n",
    "        x = self.upconv(x)\n",
    "        x = torch.cat([x, skip], dim=1)\n",
    "        x = self.conv_block(x)\n",
    "        return x"
   ]
  },
  {
   "cell_type": "code",
   "execution_count": null,
   "id": "2a198dc4-a422-4385-8321-f23e1f632b7a",
   "metadata": {},
   "outputs": [],
   "source": []
  },
  {
   "cell_type": "code",
   "execution_count": null,
   "id": "4a2a347d-dd2f-480b-adf1-55599fef2090",
   "metadata": {},
   "outputs": [],
   "source": [
    "class AttentionGate(nn.Module):\n",
    "    def __init__(self, in_channels, gating_channels, inter_channels):\n",
    "        super(AttentionGate, self).__init__()\n",
    "        self.W_g = nn.Conv2d(gating_channels, inter_channels, kernel_size=1)\n",
    "        self.W_x = nn.Conv2d(in_channels, inter_channels, kernel_size=1)\n",
    "        self.psi = nn.Conv2d(inter_channels, 1, kernel_size=1)\n",
    "        self.sigmoid = nn.Sigmoid()\n",
    "\n",
    "    def forward(self, x, g):\n",
    "        # g: gating signal (from decoder), x: input (from encoder)\n",
    "        g = self.W_g(g)\n",
    "        x = self.W_x(x)\n",
    "        \n",
    "        # Attention gate calculation\n",
    "        additive = F.relu(g + x)\n",
    "        psi = self.psi(additive)\n",
    "        attention = self.sigmoid(psi)\n",
    "        \n",
    "        return x * attention"
   ]
  },
  {
   "cell_type": "code",
   "execution_count": null,
   "id": "06cd7cd0-c10f-4f0d-a55c-63f959a226ef",
   "metadata": {},
   "outputs": [],
   "source": []
  },
  {
   "cell_type": "code",
   "execution_count": null,
   "id": "c4e0c90b-bd0c-4e49-a407-252d4badeca5",
   "metadata": {},
   "outputs": [],
   "source": [
    "class AttentionUNet(nn.Module):\n",
    "    def __init__(self, in_channels, out_channels):\n",
    "        super(AttentionUNet, self).__init__()\n",
    "        \n",
    "        # Encoder (Contracting Path)\n",
    "        self.enc1 = DownBlock(in_channels, 64)\n",
    "        self.enc2 = DownBlock(64, 128)\n",
    "        self.enc3 = DownBlock(128, 256)\n",
    "        self.enc4 = DownBlock(256, 512)\n",
    "        \n",
    "        # Bottleneck\n",
    "        self.bottleneck = ConvBlock(512, 1024)\n",
    "        \n",
    "        # Decoder (Expansive Path)\n",
    "        self.up4 = UpBlock(1024, 512)\n",
    "        self.up3 = UpBlock(512, 256)\n",
    "        self.up2 = UpBlock(256, 128)\n",
    "        self.up1 = UpBlock(128, 64)\n",
    "        \n",
    "        # Final convolution for segmentation output\n",
    "        self.final_conv = nn.Conv2d(64, out_channels, kernel_size=1)\n",
    "        \n",
    "        # Attention Gates\n",
    "        self.att_gate4 = AttentionGate(512, 1024, 256)\n",
    "        self.att_gate3 = AttentionGate(256, 512, 128)\n",
    "        self.att_gate2 = AttentionGate(128, 256, 64)\n",
    "        self.att_gate1 = AttentionGate(64, 128, 32)\n",
    "\n",
    "    def forward(self, x):\n",
    "        # Encoder\n",
    "        enc1, p1 = self.enc1(x)\n",
    "        enc2, p2 = self.enc2(p1)\n",
    "        enc3, p3 = self.enc3(p2)\n",
    "        enc4, p4 = self.enc4(p3)\n",
    "        \n",
    "        # Bottleneck\n",
    "        bottleneck = self.bottleneck(p4)\n",
    "        \n",
    "        # Decoder with attention gates\n",
    "        up4 = self.up4(bottleneck, self.att_gate4(enc4, bottleneck))\n",
    "        up3 = self.up3(up4, self.att_gate3(enc3, up4))\n",
    "        up2 = self.up2(up3, self.att_gate2(enc2, up3))\n",
    "        up1 = self.up1(up2, self.att_gate1(enc1, up2))\n",
    "        \n",
    "        # Final segmentation output\n",
    "        segmentation_output = self.final_conv(up1)\n",
    "\n",
    "        return segmentation_output"
   ]
  },
  {
   "cell_type": "code",
   "execution_count": null,
   "id": "9019d609-3ccb-47cc-b856-e61f121581ff",
   "metadata": {},
   "outputs": [],
   "source": []
  }
 ],
 "metadata": {
  "kernelspec": {
   "display_name": "Python 3 (ipykernel)",
   "language": "python",
   "name": "python3"
  },
  "language_info": {
   "codemirror_mode": {
    "name": "ipython",
    "version": 3
   },
   "file_extension": ".py",
   "mimetype": "text/x-python",
   "name": "python",
   "nbconvert_exporter": "python",
   "pygments_lexer": "ipython3",
   "version": "3.12.3"
  }
 },
 "nbformat": 4,
 "nbformat_minor": 5
}
