{
 "cells": [
  {
   "cell_type": "code",
   "execution_count": null,
   "id": "8e26b949-9fe1-464c-900d-030d6c528273",
   "metadata": {},
   "outputs": [],
   "source": [
    "import torch\n",
    "import torch.nn as nn\n",
    "import torch.nn.functional as F`"
   ]
  },
  {
   "cell_type": "code",
   "execution_count": null,
   "id": "681e4b3d-62ab-4485-8a83-8560921c9633",
   "metadata": {},
   "outputs": [],
   "source": [
    "class ResidualBlock(nn.Module):\n",
    "    def __init__(self, in_channels, out_channels):\n",
    "        super(ResidualBlock, self).__init__()\n",
    "        self.conv1 = nn.Conv3d(in_channels, out_channels, kernel_size=3, padding=1)\n",
    "        self.conv2 = nn.Conv3d(out_channels, out_channels, kernel_size=3, padding=1)\n",
    "        self.shortcut = nn.Conv3d(in_channels, out_channels, kernel_size=1) if in_channels != out_channels else nn.Identity()\n",
    "\n",
    "    def forward(self, x):\n",
    "        residual = self.shortcut(x)\n",
    "        x = F.relu(self.conv1(x))\n",
    "        x = self.conv2(x)\n",
    "        return F.relu(x + residual)"
   ]
  },
  {
   "cell_type": "code",
   "execution_count": null,
   "id": "753a3034-33c2-4d82-bee4-c6dcbffefe17",
   "metadata": {},
   "outputs": [],
   "source": []
  },
  {
   "cell_type": "code",
   "execution_count": null,
   "id": "e23d5f0e-6117-4183-a342-c4f19c1dad02",
   "metadata": {},
   "outputs": [],
   "source": [
    "class VNetEncoder(nn.Module):\n",
    "    def __init__(self, in_channels, out_channels, num_blocks):\n",
    "        super(VNetEncoder, self).__init__()\n",
    "        layers = []\n",
    "        for i in range(num_blocks):\n",
    "            layers.append(ResidualBlock(in_channels, out_channels))\n",
    "            in_channels = out_channels\n",
    "        self.encoder = nn.Sequential(*layers)\n",
    "\n",
    "    def forward(self, x):\n",
    "        return self.encoder(x)"
   ]
  },
  {
   "cell_type": "code",
   "execution_count": null,
   "id": "9cf800d2-6188-4c23-95d5-e69b22d5ede1",
   "metadata": {},
   "outputs": [],
   "source": []
  },
  {
   "cell_type": "code",
   "execution_count": null,
   "id": "ede201b1-2e8c-455f-a2c1-d0b6579e4112",
   "metadata": {},
   "outputs": [],
   "source": [
    "class VNetDecoder(nn.Module):\n",
    "    def __init__(self, in_channels, out_channels, num_blocks):\n",
    "        super(VNetDecoder, self).__init__()\n",
    "        layers = []\n",
    "        for i in range(num_blocks):\n",
    "            layers.append(ResidualBlock(in_channels, out_channels))\n",
    "            in_channels = out_channels\n",
    "        self.decoder = nn.Sequential(*layers)\n",
    "\n",
    "    def forward(self, x):\n",
    "        return self.decoder(x)"
   ]
  },
  {
   "cell_type": "code",
   "execution_count": null,
   "id": "96fd5f81-4e76-4292-bd64-1bb67ee54ea8",
   "metadata": {},
   "outputs": [],
   "source": []
  },
  {
   "cell_type": "code",
   "execution_count": null,
   "id": "197434bc-e941-44fa-902a-b12c3213e537",
   "metadata": {},
   "outputs": [],
   "source": [
    "class VNetDownsample(nn.Module):\n",
    "    def __init__(self, in_channels, out_channels):\n",
    "        super(VNetDownsample, self).__init__()\n",
    "        self.conv = nn.Conv3d(in_channels, out_channels, kernel_size=3, stride=2, padding=1)\n",
    "\n",
    "    def forward(self, x):\n",
    "        return self.conv(x)"
   ]
  },
  {
   "cell_type": "code",
   "execution_count": null,
   "id": "bac9b720-4b92-40ad-9e81-577d8164134c",
   "metadata": {},
   "outputs": [],
   "source": []
  },
  {
   "cell_type": "code",
   "execution_count": null,
   "id": "6f7d5d44-11cb-42f4-bcfd-24d95873deda",
   "metadata": {},
   "outputs": [],
   "source": [
    "class VNetUpsample(nn.Module):\n",
    "    def __init__(self, in_channels, out_channels):\n",
    "        super(VNetUpsample, self).__init__()\n",
    "        self.conv = nn.ConvTranspose3d(in_channels, out_channels, kernel_size=2, stride=2)\n",
    "\n",
    "    def forward(self, x):\n",
    "        return self.conv(x)"
   ]
  },
  {
   "cell_type": "code",
   "execution_count": null,
   "id": "513bfea8-0682-4626-adbf-4bd878d1e1d0",
   "metadata": {},
   "outputs": [],
   "source": []
  },
  {
   "cell_type": "code",
   "execution_count": null,
   "id": "62affc36-2d33-497e-8d6f-6fef47f4d295",
   "metadata": {},
   "outputs": [],
   "source": [
    "class VNet(nn.Module):\n",
    "    def __init__(self, in_channels, out_channels, base_channels=16, num_blocks=2):\n",
    "        super(VNet, self).__init__()\n",
    "\n",
    "        # Encoder path\n",
    "        self.encoder1 = VNetEncoder(in_channels, base_channels, num_blocks)\n",
    "        self.down1 = VNetDownsample(base_channels, base_channels * 2)\n",
    "        self.encoder2 = VNetEncoder(base_channels * 2, base_channels * 2, num_blocks)\n",
    "        self.down2 = VNetDownsample(base_channels * 2, base_channels * 4)\n",
    "        self.encoder3 = VNetEncoder(base_channels * 4, base_channels * 4, num_blocks)\n",
    "        self.down3 = VNetDownsample(base_channels * 4, base_channels * 8)\n",
    "        self.encoder4 = VNetEncoder(base_channels * 8, base_channels * 8, num_blocks)\n",
    "\n",
    "        # Decoder path\n",
    "        self.up3 = VNetUpsample(base_channels * 8, base_channels * 4)\n",
    "        self.decoder3 = VNetDecoder(base_channels * 8, base_channels * 4, num_blocks)\n",
    "        self.up2 = VNetUpsample(base_channels * 4, base_channels * 2)\n",
    "        self.decoder2 = VNetDecoder(base_channels * 4, base_channels * 2, num_blocks)\n",
    "        self.up1 = VNetUpsample(base_channels * 2, base_channels)\n",
    "        self.decoder1 = VNetDecoder(base_channels * 2, base_channels, num_blocks)\n",
    "\n",
    "        # Final output\n",
    "        self.final_conv = nn.Conv3d(base_channels, out_channels, kernel_size=1)\n",
    "\n",
    "    def forward(self, x):\n",
    "        # Encoder path\n",
    "        enc1 = self.encoder1(x)\n",
    "        down1 = self.down1(enc1)\n",
    "        enc2 = self.encoder2(down1)\n",
    "        down2 = self.down2(enc2)\n",
    "        enc3 = self.encoder3(down2)\n",
    "        down3 = self.down3(enc3)\n",
    "        enc4 = self.encoder4(down3)\n",
    "\n",
    "        # Decoder path with skip connections\n",
    "        up3 = self.up3(enc4)\n",
    "        dec3 = self.decoder3(torch.cat([up3, enc3], dim=1))\n",
    "\n",
    "        up2 = self.up2(dec3)\n",
    "        dec2 = self.decoder2(torch.cat([up2, enc2], dim=1))\n",
    "\n",
    "        up1 = self.up1(dec2)\n",
    "        dec1 = self.decoder1(torch.cat([up1, enc1], dim=1))\n",
    "\n",
    "        # Final segmentation output\n",
    "        output = self.final_conv(dec1)\n",
    "        return output"
   ]
  },
  {
   "cell_type": "code",
   "execution_count": null,
   "id": "5c4b5003-6e66-4e6f-aaf4-fe78f47d56fe",
   "metadata": {},
   "outputs": [],
   "source": []
  }
 ],
 "metadata": {
  "kernelspec": {
   "display_name": "Python 3 (ipykernel)",
   "language": "python",
   "name": "python3"
  },
  "language_info": {
   "codemirror_mode": {
    "name": "ipython",
    "version": 3
   },
   "file_extension": ".py",
   "mimetype": "text/x-python",
   "name": "python",
   "nbconvert_exporter": "python",
   "pygments_lexer": "ipython3",
   "version": "3.12.3"
  }
 },
 "nbformat": 4,
 "nbformat_minor": 5
}
