{
 "cells": [
  {
   "cell_type": "code",
   "execution_count": null,
   "id": "8e26b949-9fe1-464c-900d-030d6c528273",
   "metadata": {},
   "outputs": [],
   "source": [
    "import torch\n",
    "import torch.nn as nn\n",
    "import torch.nn.functional as F`"
   ]
  },
  {
   "cell_type": "code",
   "execution_count": null,
   "id": "681e4b3d-62ab-4485-8a83-8560921c9633",
   "metadata": {},
   "outputs": [],
   "source": [
    "class ResidualBlock(nn.Module):\n",
    "    def __init__(self, in_channels, out_channels):\n",
    "        super(ResidualBlock, self).__init__()\n",
    "        self.conv1 = nn.Conv3d(in_channels, out_channels, kernel_size=3, padding=1)\n",
    "        self.conv2 = nn.Conv3d(out_channels, out_channels, kernel_size=3, padding=1)\n",
    "        self.shortcut = nn.Conv3d(in_channels, out_channels, kernel_size=1) if in_channels != out_channels else nn.Identity()\n",
    "\n",
    "    def forward(self, x):\n",
    "        residual = self.shortcut(x)\n",
    "        x = F.relu(self.conv1(x))\n",
    "        x = self.conv2(x)\n",
    "        return F.relu(x + residual)"
   ]
  },
  {
   "cell_type": "code",
   "execution_count": null,
   "id": "753a3034-33c2-4d82-bee4-c6dcbffefe17",
   "metadata": {},
   "outputs": [],
   "source": []
  },
  {
   "cell_type": "code",
   "execution_count": null,
   "id": "e23d5f0e-6117-4183-a342-c4f19c1dad02",
   "metadata": {},
   "outputs": [],
   "source": [
    "class VNetEncoder(nn.Module):\n",
    "    def __init__(self, in_channels, out_channels, num_blocks):\n",
    "        super(VNetEncoder, self).__init__()\n",
    "        layers = []\n",
    "        for i in range(num_blocks):\n",
    "            layers.append(ResidualBlock(in_channels, out_channels))\n",
    "            in_channels = out_channels\n",
    "        self.encoder = nn.Sequential(*layers)\n",
    "\n",
    "    def forward(self, x):\n",
    "        return self.encoder(x)"
   ]
  },
  {
   "cell_type": "code",
   "execution_count": null,
   "id": "5c4b5003-6e66-4e6f-aaf4-fe78f47d56fe",
   "metadata": {},
   "outputs": [],
   "source": []
  }
 ],
 "metadata": {
  "kernelspec": {
   "display_name": "Python 3 (ipykernel)",
   "language": "python",
   "name": "python3"
  },
  "language_info": {
   "codemirror_mode": {
    "name": "ipython",
    "version": 3
   },
   "file_extension": ".py",
   "mimetype": "text/x-python",
   "name": "python",
   "nbconvert_exporter": "python",
   "pygments_lexer": "ipython3",
   "version": "3.12.3"
  }
 },
 "nbformat": 4,
 "nbformat_minor": 5
}
