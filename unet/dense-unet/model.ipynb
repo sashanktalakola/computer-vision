{
 "cells": [
  {
   "cell_type": "code",
   "execution_count": null,
   "id": "e9f02549-96a5-409e-b0dd-16363d5bb75b",
   "metadata": {},
   "outputs": [],
   "source": [
    "import torch\n",
    "import torch.nn as nn\n",
    "import torch.nn.functional as F"
   ]
  },
  {
   "cell_type": "code",
   "execution_count": null,
   "id": "1c591a85-b797-41e7-aade-7ee56e806165",
   "metadata": {},
   "outputs": [],
   "source": [
    "class DenseBlock(nn.Module):\n",
    "    def __init__(self, in_channels, growth_rate, num_layers):\n",
    "        super(DenseBlock, self).__init__()\n",
    "        self.num_layers = num_layers\n",
    "        self.layers = nn.ModuleList()\n",
    "\n",
    "        for _ in range(num_layers):\n",
    "            self.layers.append(\n",
    "                nn.Conv2d(in_channels, growth_rate, kernel_size=3, padding=1)\n",
    "            )\n",
    "            in_channels += growth_rate  # Increase the input channels after each layer\n",
    "        \n",
    "    def forward(self, x):\n",
    "        for layer in self.layers:\n",
    "            new_features = F.relu(layer(x))\n",
    "            x = torch.cat([x, new_features], dim=1)  # Concatenate new features with existing features\n",
    "        return x"
   ]
  },
  {
   "cell_type": "code",
   "execution_count": null,
   "id": "df23e525-4667-4476-b548-8132a3b6378c",
   "metadata": {},
   "outputs": [],
   "source": []
  },
  {
   "cell_type": "code",
   "execution_count": null,
   "id": "9a498a2a-4a0d-4b66-b468-f1aa51665805",
   "metadata": {},
   "outputs": [],
   "source": [
    "class TransitionLayer(nn.Module):\n",
    "    def __init__(self, in_channels, out_channels):\n",
    "        super(TransitionLayer, self).__init__()\n",
    "        self.conv = nn.Conv2d(in_channels, out_channels, kernel_size=1)\n",
    "        self.pool = nn.MaxPool2d(2)\n",
    "    \n",
    "    def forward(self, x):\n",
    "        x = self.conv(x)\n",
    "        x = self.pool(x)\n",
    "        return x"
   ]
  },
  {
   "cell_type": "code",
   "execution_count": null,
   "id": "906542d5-a475-4b98-bb3b-3228eabd861e",
   "metadata": {},
   "outputs": [],
   "source": []
  },
  {
   "cell_type": "code",
   "execution_count": null,
   "id": "e0a02db6-ec19-4145-967c-4bbfc18e62c0",
   "metadata": {},
   "outputs": [],
   "source": [
    "class UpConvBlock(nn.Module):\n",
    "    def __init__(self, in_channels, out_channels):\n",
    "        super(UpConvBlock, self).__init__()\n",
    "        self.upconv = nn.ConvTranspose2d(in_channels, out_channels, kernel_size=2, stride=2)\n",
    "        self.conv = nn.Conv2d(in_channels, out_channels, kernel_size=3, padding=1)\n",
    "    \n",
    "    def forward(self, x, skip):\n",
    "        x = self.upconv(x)\n",
    "        x = torch.cat([x, skip], dim=1)  # Concatenate the skip connection\n",
    "        x = F.relu(self.conv(x))\n",
    "        return x"
   ]
  },
  {
   "cell_type": "code",
   "execution_count": null,
   "id": "52056830-53d3-404d-98fe-ebdd8a543eb9",
   "metadata": {},
   "outputs": [],
   "source": []
  },
  {
   "cell_type": "code",
   "execution_count": null,
   "id": "59c84dbe-4a25-4842-97e8-519c0fc521b7",
   "metadata": {},
   "outputs": [],
   "source": [
    "class DenseUNet(nn.Module):\n",
    "    def __init__(self, in_channels, out_channels, growth_rate=32, num_layers_per_block=4):\n",
    "        super(DenseUNet, self).__init__()\n",
    "\n",
    "        # Encoder\n",
    "        self.enc1 = DenseBlock(in_channels, growth_rate, num_layers_per_block)\n",
    "        self.trans1 = TransitionLayer(in_channels + growth_rate * num_layers_per_block, growth_rate * 2)\n",
    "\n",
    "        self.enc2 = DenseBlock(growth_rate * 2, growth_rate, num_layers_per_block)\n",
    "        self.trans2 = TransitionLayer(growth_rate * 2 + growth_rate * num_layers_per_block, growth_rate * 4)\n",
    "\n",
    "        self.enc3 = DenseBlock(growth_rate * 4, growth_rate, num_layers_per_block)\n",
    "        self.trans3 = TransitionLayer(growth_rate * 4 + growth_rate * num_layers_per_block, growth_rate * 8)\n",
    "\n",
    "        self.enc4 = DenseBlock(growth_rate * 8, growth_rate, num_layers_per_block)\n",
    "        self.trans4 = TransitionLayer(growth_rate * 8 + growth_rate * num_layers_per_block, growth_rate * 16)\n",
    "\n",
    "        # Bottleneck\n",
    "        self.bottleneck = DenseBlock(growth_rate * 16, growth_rate, num_layers_per_block)\n",
    "\n",
    "        # Decoder\n",
    "        self.upconv4 = UpConvBlock(growth_rate * 16, growth_rate * 8)\n",
    "        self.upconv3 = UpConvBlock(growth_rate * 8, growth_rate * 4)\n",
    "        self.upconv2 = UpConvBlock(growth_rate * 4, growth_rate * 2)\n",
    "        self.upconv1 = UpConvBlock(growth_rate * 2, growth_rate)\n",
    "\n",
    "        # Final output layer\n",
    "        self.final_conv = nn.Conv2d(growth_rate, out_channels, kernel_size=1)\n",
    "\n",
    "    def forward(self, x):\n",
    "        # Encoder path\n",
    "        enc1 = self.enc1(x)\n",
    "        trans1 = self.trans1(enc1)\n",
    "\n",
    "        enc2 = self.enc2(trans1)\n",
    "        trans2 = self.trans2(enc2)\n",
    "\n",
    "        enc3 = self.enc3(trans2)\n",
    "        trans3 = self.trans3(enc3)\n",
    "\n",
    "        enc4 = self.enc4(trans3)\n",
    "        trans4 = self.trans4(enc4)\n",
    "\n",
    "        # Bottleneck\n",
    "        bottleneck = self.bottleneck(trans4)\n",
    "\n",
    "        # Decoder path with skip connections\n",
    "        dec4 = self.upconv4(bottleneck, enc4)\n",
    "        dec3 = self.upconv3(dec4, enc3)\n",
    "        dec2 = self.upconv2(dec3, enc2)\n",
    "        dec1 = self.upconv1(dec2, enc1)\n",
    "\n",
    "        # Final segmentation output\n",
    "        output = self.final_conv(dec1)\n",
    "        \n",
    "        return output\n"
   ]
  },
  {
   "cell_type": "code",
   "execution_count": null,
   "id": "70a29ca5-5796-44ff-acc9-89c9b834a9b3",
   "metadata": {},
   "outputs": [],
   "source": []
  }
 ],
 "metadata": {
  "kernelspec": {
   "display_name": "Python 3 (ipykernel)",
   "language": "python",
   "name": "python3"
  },
  "language_info": {
   "codemirror_mode": {
    "name": "ipython",
    "version": 3
   },
   "file_extension": ".py",
   "mimetype": "text/x-python",
   "name": "python",
   "nbconvert_exporter": "python",
   "pygments_lexer": "ipython3",
   "version": "3.12.3"
  }
 },
 "nbformat": 4,
 "nbformat_minor": 5
}
