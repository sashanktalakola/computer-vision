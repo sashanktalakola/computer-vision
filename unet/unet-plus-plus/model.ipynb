{
 "cells": [
  {
   "cell_type": "code",
   "execution_count": null,
   "id": "1a11ab0a-c0f7-4d32-b531-8f1939838d23",
   "metadata": {},
   "outputs": [],
   "source": [
    "import torch\n",
    "import torch.nn as nn\n",
    "import torch.nn.functional as F"
   ]
  },
  {
   "cell_type": "code",
   "execution_count": null,
   "id": "a0e971e8-0374-4799-b4a5-2f25105f54a0",
   "metadata": {},
   "outputs": [],
   "source": [
    "class ConvBlock(nn.Module):\n",
    "    def __init__(self, in_channels, out_channels, num_conv_layers=2):\n",
    "        super(ConvBlock, self).__init__()\n",
    "        self.num_conv_layers = num_conv_layers\n",
    "        self.conv_layers = nn.ModuleList()\n",
    "\n",
    "        # Create the specified number of convolutional layers\n",
    "        for _ in range(self.num_conv_layers):\n",
    "            self.conv_layers.append(\n",
    "                nn.Conv2d(in_channels, out_channels, kernel_size=3, padding=1)\n",
    "            )\n",
    "            in_channels = out_channels  # Update in_channels after each layer\n",
    "        \n",
    "        self.batch_norm = nn.BatchNorm2d(out_channels)\n",
    "\n",
    "    def forward(self, x):\n",
    "        for conv in self.conv_layers:\n",
    "            x = F.relu(self.batch_norm(conv(x)))\n",
    "        return x"
   ]
  },
  {
   "cell_type": "code",
   "execution_count": null,
   "id": "03efd446-b725-45d3-85c0-7a6c48501c03",
   "metadata": {},
   "outputs": [],
   "source": []
  },
  {
   "cell_type": "code",
   "execution_count": null,
   "id": "268ea056-b695-42cf-8382-590d521c38e4",
   "metadata": {},
   "outputs": [],
   "source": [
    "class DownBlock(nn.Module):\n",
    "    def __init__(self, in_channels, out_channels):\n",
    "        super(DownBlock, self).__init__()\n",
    "        self.conv_block = ConvBlock(in_channels, out_channels)\n",
    "        self.pool = nn.MaxPool2d(2)\n",
    "    \n",
    "    def forward(self, x):\n",
    "        x = self.conv_block(x)\n",
    "        p = self.pool(x)\n",
    "        return x, p"
   ]
  },
  {
   "cell_type": "code",
   "execution_count": null,
   "id": "a197755a-df13-4cfb-a1cd-b4da2b9324f4",
   "metadata": {},
   "outputs": [],
   "source": []
  },
  {
   "cell_type": "code",
   "execution_count": null,
   "id": "55d1567b-fb95-4c30-aa42-76d78b4389ad",
   "metadata": {},
   "outputs": [],
   "source": [
    "class UpBlock(nn.Module):\n",
    "    def __init__(self, in_channels, out_channels):\n",
    "        super(UpBlock, self).__init__()\n",
    "        self.upconv = nn.ConvTranspose2d(in_channels, out_channels, kernel_size=2, stride=2)\n",
    "        self.conv_block = ConvBlock(in_channels, out_channels)\n",
    "    \n",
    "    def forward(self, x, skip):\n",
    "        x = self.upconv(x)\n",
    "        x = torch.cat([x, skip], dim=1)\n",
    "        x = self.conv_block(x)\n",
    "        return x"
   ]
  },
  {
   "cell_type": "code",
   "execution_count": null,
   "id": "d1ce7ad2-207d-4444-84bf-9b8182ae0d06",
   "metadata": {},
   "outputs": [],
   "source": []
  },
  {
   "cell_type": "code",
   "execution_count": null,
   "id": "53a69bff-85a6-4fd8-bea7-985874bdcfa6",
   "metadata": {},
   "outputs": [],
   "source": [
    "class UNetPlusPlus(nn.Module):\n",
    "    def __init__(self, in_channels, out_channels):\n",
    "        super(UNetPlusPlus, self).__init__()\n",
    "        \n",
    "        # Encoder (Contracting Path)\n",
    "        self.enc1 = DownBlock(in_channels, 64)\n",
    "        self.enc2 = DownBlock(64, 128)\n",
    "        self.enc3 = DownBlock(128, 256)\n",
    "        self.enc4 = DownBlock(256, 512)\n",
    "        \n",
    "        # Bottleneck\n",
    "        self.bottleneck = ConvBlock(512, 1024)\n",
    "        \n",
    "        # Decoder (Expansive Path)\n",
    "        self.up4 = UpBlock(1024, 512)\n",
    "        self.up3 = UpBlock(512, 256)\n",
    "        self.up2 = UpBlock(256, 128)\n",
    "        self.up1 = UpBlock(128, 64)\n",
    "        \n",
    "        # Final convolution for segmentation output\n",
    "        self.final_conv = nn.Conv2d(64, out_channels, kernel_size=1)\n",
    "        \n",
    "        # Nested skip pathways (the core modification in U-Net++)\n",
    "        self.nested_skip1 = ConvBlock(64, out_channels, num_conv_layers=3)  # 3 conv layers\n",
    "        self.nested_skip2 = ConvBlock(128, out_channels, num_conv_layers=2)  # 2 conv layers\n",
    "        self.nested_skip3 = ConvBlock(256, out_channels, num_conv_layers=2)  # 2 conv layers\n",
    "        self.nested_skip4 = ConvBlock(512, out_channels, num_conv_layers=1)  # 1 conv layer\n",
    "\n",
    "    def forward(self, x):\n",
    "        # Encoder\n",
    "        enc1, p1 = self.enc1(x)\n",
    "        enc2, p2 = self.enc2(p1)\n",
    "        enc3, p3 = self.enc3(p2)\n",
    "        enc4, p4 = self.enc4(p3)\n",
    "        \n",
    "        # Bottleneck\n",
    "        bottleneck = self.bottleneck(p4)\n",
    "        \n",
    "        # Decoder with nested skip connections\n",
    "        up4 = self.up4(bottleneck, enc4)\n",
    "        up3 = self.up3(up4, enc3)\n",
    "        up2 = self.up2(up3, enc2)\n",
    "        up1 = self.up1(up2, enc1)\n",
    "\n",
    "        # Final segmentation output\n",
    "        segmentation_output = self.final_conv(up1)\n",
    "\n",
    "        # Nested skip connections outputs (dense skip paths)\n",
    "        nested_skip1_out = self.nested_skip1(enc1)\n",
    "        nested_skip2_out = self.nested_skip2(enc2)\n",
    "        nested_skip3_out = self.nested_skip3(enc3)\n",
    "        nested_skip4_out = self.nested_skip4(enc4)\n",
    "        \n",
    "        # Combine nested skip outputs with segmentation output\n",
    "        final_output = segmentation_output + nested_skip1_out + nested_skip2_out + nested_skip3_out + nested_skip4_out\n",
    "\n",
    "        return final_output"
   ]
  },
  {
   "cell_type": "code",
   "execution_count": null,
   "id": "6220eb07-a1ab-45c3-8fc4-8780924fccfa",
   "metadata": {},
   "outputs": [],
   "source": []
  }
 ],
 "metadata": {
  "kernelspec": {
   "display_name": "Python 3 (ipykernel)",
   "language": "python",
   "name": "python3"
  },
  "language_info": {
   "codemirror_mode": {
    "name": "ipython",
    "version": 3
   },
   "file_extension": ".py",
   "mimetype": "text/x-python",
   "name": "python",
   "nbconvert_exporter": "python",
   "pygments_lexer": "ipython3",
   "version": "3.12.3"
  }
 },
 "nbformat": 4,
 "nbformat_minor": 5
}
