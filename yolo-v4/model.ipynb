{
 "cells": [
  {
   "cell_type": "code",
   "execution_count": null,
   "id": "1f1c58e5-146b-4a24-9230-497c7ceb4ad8",
   "metadata": {},
   "outputs": [],
   "source": [
    "import torch\n",
    "import torch.nn as nn\n",
    "import torch.nn.functional as F"
   ]
  },
  {
   "cell_type": "code",
   "execution_count": null,
   "id": "1e9658ad-1593-4775-9233-9350bcc918fe",
   "metadata": {},
   "outputs": [],
   "source": [
    "class ConvBlock(nn.Module):\n",
    "    \"\"\"\n",
    "    Convolution + BatchNorm + LeakyReLU block.\n",
    "    This is a basic building block for CSPDarknet53, renamed to ConvBlock.\n",
    "    \"\"\"\n",
    "    def __init__(self, in_channels, out_channels, kernel_size, stride, padding, leaky_slope=0.1):\n",
    "        super(ConvBlock, self).__init__()\n",
    "        self.conv = nn.Conv2d(in_channels, out_channels, kernel_size, stride, padding, bias=False)\n",
    "        self.bn = nn.BatchNorm2d(out_channels)\n",
    "        self.leaky_relu = nn.LeakyReLU(negative_slope=leaky_slope, inplace=True)\n",
    "\n",
    "    def forward(self, x):\n",
    "        x = self.conv(x)\n",
    "        x = self.bn(x)\n",
    "        x = self.leaky_relu(x)\n",
    "        return x"
   ]
  },
  {
   "cell_type": "code",
   "execution_count": null,
   "id": "c2e4f540-a93e-4799-bdfe-ea0f174b7cf8",
   "metadata": {},
   "outputs": [],
   "source": [
    "class ResidualBlock(nn.Module):\n",
    "    \"\"\"\n",
    "    Residual block for Darknet53.\n",
    "    Consists of two 3x3 convolutions followed by a skip connection.\n",
    "    \"\"\"\n",
    "    def __init__(self, in_channels, out_channels, stride=1):\n",
    "        super(ResidualBlock, self).__init__()\n",
    "        self.conv1 = ConvBlock(in_channels, out_channels, kernel_size=3, stride=stride, padding=1)\n",
    "        self.conv2 = ConvBlock(out_channels, out_channels, kernel_size=3, stride=1, padding=1)\n",
    "        \n",
    "        self.shortcut = nn.Identity() if in_channels == out_channels else nn.Conv2d(in_channels, out_channels, kernel_size=1, stride=stride, bias=False)\n",
    "        \n",
    "    def forward(self, x):\n",
    "        residual = self.shortcut(x)\n",
    "        x = self.conv1(x)\n",
    "        x = self.conv2(x)\n",
    "        return x + residual"
   ]
  },
  {
   "cell_type": "code",
   "execution_count": null,
   "id": "dd648dfc-cc86-42ef-8a99-65be203bde0f",
   "metadata": {},
   "outputs": [],
   "source": [
    "class CSPResidualBlock(nn.Module):\n",
    "    \"\"\"\n",
    "    Cross-Stage Partial (CSP) residual block.\n",
    "    This block divides the feature map into two parts and processes them separately.\n",
    "    \"\"\"\n",
    "    def __init__(self, in_channels, out_channels, num_blocks=1, stride=1):\n",
    "        super(CSPResidualBlock, self).__init__()\n",
    "        self.split_channels = in_channels // 2\n",
    "        self.block1 = nn.Sequential(*[ResidualBlock(self.split_channels, self.split_channels) for _ in range(num_blocks)])\n",
    "        self.block2 = nn.Sequential(*[ResidualBlock(self.split_channels, self.split_channels) for _ in range(num_blocks)])\n",
    "\n",
    "        self.conv1 = ConvBlock(in_channels, out_channels, kernel_size=3, stride=stride, padding=1)\n",
    "        self.conv2 = ConvBlock(out_channels, out_channels, kernel_size=1, stride=1, padding=0)\n",
    "\n",
    "    def forward(self, x):\n",
    "        split1 = x[:, :self.split_channels, :, :]\n",
    "        split2 = x[:, self.split_channels:, :, :]\n",
    "\n",
    "        split1 = self.block1(split1)\n",
    "        split2 = self.block2(split2)\n",
    "\n",
    "        out = torch.cat([split1, split2], dim=1)\n",
    "        out = self.conv1(out)\n",
    "        out = self.conv2(out)\n",
    "        return out"
   ]
  },
  {
   "cell_type": "code",
   "execution_count": null,
   "id": "6498b0b8-4ae1-4d4f-9a52-d6b91b3c0929",
   "metadata": {},
   "outputs": [],
   "source": []
  },
  {
   "cell_type": "code",
   "execution_count": null,
   "id": "a458f48f-a1fc-4e10-a568-f6c20f90a3fa",
   "metadata": {},
   "outputs": [],
   "source": []
  },
  {
   "cell_type": "code",
   "execution_count": null,
   "id": "24a18d3c-5f70-4a64-9dcb-68eaaecbc034",
   "metadata": {},
   "outputs": [],
   "source": []
  }
 ],
 "metadata": {
  "kernelspec": {
   "display_name": "Python 3 (ipykernel)",
   "language": "python",
   "name": "python3"
  },
  "language_info": {
   "codemirror_mode": {
    "name": "ipython",
    "version": 3
   },
   "file_extension": ".py",
   "mimetype": "text/x-python",
   "name": "python",
   "nbconvert_exporter": "python",
   "pygments_lexer": "ipython3",
   "version": "3.12.3"
  }
 },
 "nbformat": 4,
 "nbformat_minor": 5
}
