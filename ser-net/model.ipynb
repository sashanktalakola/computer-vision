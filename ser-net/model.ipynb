{
 "cells": [
  {
   "cell_type": "code",
   "execution_count": null,
   "id": "996a7bfb-4d2f-4d55-897a-0bec9d65a207",
   "metadata": {},
   "outputs": [],
   "source": [
    "import torch\n",
    "import torch.nn as nn\n",
    "import torch.nn.functional as F"
   ]
  },
  {
   "cell_type": "code",
   "execution_count": null,
   "id": "d803fc34-dbae-489c-972f-b6fd46b4308e",
   "metadata": {},
   "outputs": [],
   "source": []
  },
  {
   "cell_type": "code",
   "execution_count": null,
   "id": "f2675321-f407-476d-acd3-77938ce25031",
   "metadata": {},
   "outputs": [],
   "source": [
    "class SEBlock(nn.Module):\n",
    "    def __init__(self, in_channels, reduction=16):\n",
    "        super(SEBlock, self).__init__()\n",
    "        self.in_channels = in_channels\n",
    "        self.reduction = reduction\n",
    "        \n",
    "        # Squeeze operation: global average pooling\n",
    "        self.avg_pool = nn.AdaptiveAvgPool2d(1)\n",
    "        \n",
    "        # Excitation operation: fully connected layers (bottleneck structure)\n",
    "        self.fc1 = nn.Linear(in_channels, in_channels // reduction, bias=False)\n",
    "        self.fc2 = nn.Linear(in_channels // reduction, in_channels, bias=False)\n",
    "        \n",
    "    def forward(self, x):\n",
    "        # Squeeze: global average pooling\n",
    "        b, c, _, _ = x.size()\n",
    "        squeeze = self.avg_pool(x).view(b, c)\n",
    "        \n",
    "        # Excitation: fully connected layers\n",
    "        excitation = F.relu(self.fc1(squeeze))\n",
    "        excitation = torch.sigmoid(self.fc2(excitation)).view(b, c, 1, 1)\n",
    "        \n",
    "        # Scale the input feature map with the excitation values\n",
    "        return x * excitation.expand_as(x)\n",
    "\n",
    "# Memory Module\n",
    "class MemoryModule(nn.Module):\n",
    "    def __init__(self, in_channels, memory_size=1):\n",
    "        super(MemoryModule, self).__init__()\n",
    "        self.memory_size = memory_size\n",
    "        self.memory = None\n",
    "\n",
    "    def forward(self, x):\n",
    "        # Store the important features from the current input\n",
    "        if self.memory is None:\n",
    "            self.memory = x\n",
    "        else:\n",
    "            self.memory = torch.cat([self.memory, x], dim=0)\n",
    "            if self.memory.size(0) > self.memory_size:\n",
    "                self.memory = self.memory[1:]\n",
    "\n",
    "        return self.memory.mean(dim=0)"
   ]
  },
  {
   "cell_type": "code",
   "execution_count": null,
   "id": "cd51b6e6-95b4-44a5-b03d-f5a9d83d512a",
   "metadata": {},
   "outputs": [],
   "source": []
  },
  {
   "cell_type": "code",
   "execution_count": null,
   "id": "db5699f8-9a57-4776-a4ad-ee0f968592c8",
   "metadata": {},
   "outputs": [],
   "source": [
    "class SReNBlock(nn.Module):\n",
    "    def __init__(self, in_channels, out_channels, memory_size=1, reduction=16):\n",
    "        super(SReNBlock, self).__init__()\n",
    "        \n",
    "        self.conv = nn.Conv2d(in_channels, out_channels, kernel_size=3, padding=1)\n",
    "        self.se_block = SEBlock(out_channels, reduction)\n",
    "        self.memory_module = MemoryModule(out_channels, memory_size)\n",
    "        self.relu = nn.ReLU(inplace=True)\n",
    "\n",
    "    def forward(self, x):\n",
    "        # Convolution layer\n",
    "        x = self.conv(x)\n",
    "        \n",
    "        # Apply SE block (squeeze-and-excitation)\n",
    "        x = self.se_block(x)\n",
    "        \n",
    "        # Apply memory module (remember important features)\n",
    "        memory = self.memory_module(x)\n",
    "        \n",
    "        # Combine current features with memory (e.g., by adding or concatenating)\n",
    "        x = x + memory\n",
    "        \n",
    "        # Apply ReLU activation\n",
    "        return self.relu(x)"
   ]
  },
  {
   "cell_type": "code",
   "execution_count": null,
   "id": "6e55e1d9-1862-4a33-a5c0-b443dd402514",
   "metadata": {},
   "outputs": [],
   "source": []
  },
  {
   "cell_type": "code",
   "execution_count": null,
   "id": "34e33f96-af6b-4201-aae4-fa9133e96ba6",
   "metadata": {},
   "outputs": [],
   "source": [
    "class SReNNetwork(nn.Module):\n",
    "    def __init__(self, in_channels, num_classes, memory_size=3):\n",
    "        super(SReNNetwork, self).__init__()\n",
    "        \n",
    "        self.conv1 = SReNBlock(in_channels, 64, memory_size)\n",
    "        self.conv2 = SReNBlock(64, 128, memory_size)\n",
    "        self.conv3 = SReNBlock(128, 256, memory_size)\n",
    "        \n",
    "        self.fc = nn.Linear(256, num_classes)\n",
    "    \n",
    "    def forward(self, x):\n",
    "        # Pass through SReN blocks\n",
    "        x = self.conv1(x)\n",
    "        x = self.conv2(x)\n",
    "        x = self.conv3(x)\n",
    "        \n",
    "        # Global Average Pooling\n",
    "        x = F.adaptive_avg_pool2d(x, (1, 1))\n",
    "        x = torch.flatten(x, 1)\n",
    "        \n",
    "        # Final Fully Connected Layer\n",
    "        x = self.fc(x)\n",
    "        \n",
    "        return x"
   ]
  },
  {
   "cell_type": "code",
   "execution_count": null,
   "id": "ea061347-bce0-4dcb-93f3-acc7ab370eb0",
   "metadata": {},
   "outputs": [],
   "source": []
  }
 ],
 "metadata": {
  "kernelspec": {
   "display_name": "Python 3 (ipykernel)",
   "language": "python",
   "name": "python3"
  },
  "language_info": {
   "codemirror_mode": {
    "name": "ipython",
    "version": 3
   },
   "file_extension": ".py",
   "mimetype": "text/x-python",
   "name": "python",
   "nbconvert_exporter": "python",
   "pygments_lexer": "ipython3",
   "version": "3.12.3"
  }
 },
 "nbformat": 4,
 "nbformat_minor": 5
}
