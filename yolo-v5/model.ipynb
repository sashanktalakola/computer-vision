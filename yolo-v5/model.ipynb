{
 "cells": [
  {
   "cell_type": "code",
   "execution_count": null,
   "id": "43f25568-d349-4667-84e1-4d5e19db31bd",
   "metadata": {},
   "outputs": [],
   "source": [
    "import torch\n",
    "import torch.nn as nn\n",
    "import torch.nn.functional as F"
   ]
  },
  {
   "cell_type": "code",
   "execution_count": null,
   "id": "a5f8c67b-7f4d-416c-a9bf-f122902a310b",
   "metadata": {},
   "outputs": [],
   "source": [
    "class CBS(nn.Module):\n",
    "    def __init__(self, in_channels, out_channels, kernel_size=3, stride=1, padding=1):\n",
    "        super(CBS, self).__init__()\n",
    "        self.conv = nn.Conv2d(in_channels, out_channels, kernel_size=kernel_size, stride=stride, padding=padding)\n",
    "        self.bn = nn.BatchNorm2d(out_channels)\n",
    "        self.silu = nn.SiLU()\n",
    "\n",
    "    def forward(self, x):\n",
    "        x = self.conv(x)\n",
    "        x = self.bn(x)\n",
    "        x = self.silu(x)\n",
    "        return x"
   ]
  },
  {
   "cell_type": "code",
   "execution_count": null,
   "id": "ca8cf4f1-be3d-40d7-b217-8b2b1723388e",
   "metadata": {},
   "outputs": [],
   "source": [
    "class SPPBlock(nn.Module):\n",
    "    def __init__(self, in_channels, out_channels, pool_sizes=[5, 9, 13]):\n",
    "        super(SPPBlock, self).__init__()\n",
    "        self.conv1 = nn.Conv2d(in_channels, out_channels, kernel_size=1)\n",
    "        self.pools = nn.ModuleList([nn.MaxPool2d(size, stride=1, padding=size//2) for size in pool_sizes])\n",
    "\n",
    "    def forward(self, x):\n",
    "        # Apply pooling at different scales and concatenate results\n",
    "        pooled_outputs = [x]  # Start with the original input\n",
    "        for pool in self.pools:\n",
    "            pooled_outputs.append(pool(x))\n",
    "        \n",
    "        # Concatenate pooled results\n",
    "        x = torch.cat(pooled_outputs, dim=1)\n",
    "        x = self.conv1(x)  # Final convolution to match output channels\n",
    "        return x"
   ]
  },
  {
   "cell_type": "code",
   "execution_count": null,
   "id": "effa142d-8e17-4040-8e5b-8510f7f3d2b2",
   "metadata": {},
   "outputs": [],
   "source": [
    "class C3(nn.Module):\n",
    "    def __init__(self, in_channels):\n",
    "        super(C3, self).__init__()\n",
    "        # Split the input into two paths\n",
    "        self.conv1 = nn.Conv2d(in_channels, in_channels // 2, kernel_size=1)\n",
    "        self.conv2 = nn.Conv2d(in_channels, in_channels // 2, kernel_size=3, padding=1)\n",
    "        self.conv3 = nn.Conv2d(in_channels, in_channels, kernel_size=1)\n",
    "\n",
    "    def forward(self, x):\n",
    "        x1 = self.conv1(x)\n",
    "        x2 = self.conv2(x)\n",
    "        x = torch.cat([x1, x2], dim=1)\n",
    "        x = self.conv3(x)\n",
    "        return x"
   ]
  },
  {
   "cell_type": "code",
   "execution_count": null,
   "id": "4bc8f94d-4ab6-4599-8861-b5e91eecc0f1",
   "metadata": {},
   "outputs": [],
   "source": []
  },
  {
   "cell_type": "code",
   "execution_count": null,
   "id": "88871a8b-9c1e-416e-8632-b6ff6a23f2db",
   "metadata": {},
   "outputs": [],
   "source": [
    "class YOLOv5Backbone(nn.Module):\n",
    "    def __init__(self, in_channels=3, out_channels=1024):\n",
    "        super(YOLOv5Backbone, self).__init__()\n",
    "\n",
    "        # Initial CBS block\n",
    "        self.cbs1 = CBS(in_channels, 64, kernel_size=6, stride=2, padding=2)\n",
    "\n",
    "        # Second CBS block\n",
    "        self.cbs2 = CBS(64, 128, kernel_size=3, stride=2)\n",
    "\n",
    "        # First C3 block\n",
    "        self.c3_1 = C3(128)\n",
    "\n",
    "        # Third CBS block\n",
    "        self.cbs3 = CBS(128, 256, kernel_size=3, stride=2)\n",
    "\n",
    "        # Second C3 block\n",
    "        self.c3_2 = C3(256)\n",
    "\n",
    "        # Fourth CBS block\n",
    "        self.cbs4 = CBS(256, 512, kernel_size=3, stride=2)\n",
    "\n",
    "        # Third C3 block\n",
    "        self.c3_3 = C3(512)\n",
    "\n",
    "        # Fifth CBS block\n",
    "        self.cbs5 = CBS(512, 1024, kernel_size=3, stride=2)\n",
    "\n",
    "        # Fourth C3 block\n",
    "        self.c3_4 = C3(1024)\n",
    "\n",
    "        # Spatial Pyramid Pooling (SPP) block\n",
    "        self.spp = SPPBlock(1024, 1024, pool_sizes=[5, 9, 13])\n",
    "\n",
    "    def forward(self, x):\n",
    "        # Initial layers\n",
    "        x = self.cbs1(x)\n",
    "        x = self.cbs2(x)\n",
    "        x = self.c3_1(x)\n",
    "        \n",
    "        # Output from c3_2\n",
    "        x_c3_2 = self.cbs3(x)\n",
    "        x_c3_2 = self.c3_2(x_c3_2)\n",
    "        \n",
    "        # Output from c3_3\n",
    "        x_c3_3 = self.cbs4(x_c3_2)\n",
    "        x_c3_3 = self.c3_3(x_c3_3)\n",
    "\n",
    "        # Output from spp\n",
    "        x_cbs5 = self.cbs5(x_c3_3)\n",
    "        x_c3_4 = self.c3_4(x_cbs5)\n",
    "        x_spp = self.spp(x_c3_4)\n",
    "\n",
    "        # Return outputs from c3_2, c3_3, and spp\n",
    "        return x_c3_2, x_c3_3, x_spp"
   ]
  },
  {
   "cell_type": "code",
   "execution_count": null,
   "id": "16d3c9ee-9169-455a-963e-824d4d04e60f",
   "metadata": {},
   "outputs": [],
   "source": []
  }
 ],
 "metadata": {
  "kernelspec": {
   "display_name": "Python 3 (ipykernel)",
   "language": "python",
   "name": "python3"
  },
  "language_info": {
   "codemirror_mode": {
    "name": "ipython",
    "version": 3
   },
   "file_extension": ".py",
   "mimetype": "text/x-python",
   "name": "python",
   "nbconvert_exporter": "python",
   "pygments_lexer": "ipython3",
   "version": "3.12.3"
  }
 },
 "nbformat": 4,
 "nbformat_minor": 5
}
