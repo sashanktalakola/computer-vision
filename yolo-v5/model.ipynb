{
 "cells": [
  {
   "cell_type": "code",
   "execution_count": null,
   "id": "43f25568-d349-4667-84e1-4d5e19db31bd",
   "metadata": {},
   "outputs": [],
   "source": [
    "import torch\n",
    "import torch.nn as nn\n",
    "import torch.nn.functional as F"
   ]
  },
  {
   "cell_type": "code",
   "execution_count": null,
   "id": "a5f8c67b-7f4d-416c-a9bf-f122902a310b",
   "metadata": {},
   "outputs": [],
   "source": [
    "class CBS(nn.Module):\n",
    "    def __init__(self, in_channels, out_channels, kernel_size=3, stride=1, padding=1):\n",
    "        super(CBS, self).__init__()\n",
    "        # Convolutional layer\n",
    "        self.conv = nn.Conv2d(in_channels, out_channels, kernel_size, stride, padding)\n",
    "        # Batch Normalization\n",
    "        self.bn = nn.BatchNorm2d(out_channels)\n",
    "        # SiLU Activation function\n",
    "        self.silu = nn.SiLU()\n",
    "\n",
    "    def forward(self, x):\n",
    "        # Forward pass through the CBS block\n",
    "        x = self.conv(x)\n",
    "        x = self.bn(x)\n",
    "        x = self.silu(x)\n",
    "        return x"
   ]
  },
  {
   "cell_type": "code",
   "execution_count": null,
   "id": "ca8cf4f1-be3d-40d7-b217-8b2b1723388e",
   "metadata": {},
   "outputs": [],
   "source": [
    "class SPPBlock(nn.Module):\n",
    "    def __init__(self, in_channels, out_channels):\n",
    "        super(SPPBlock, self).__init__()\n",
    "        \n",
    "        # Initial convolution to reduce channels before pooling\n",
    "        self.conv1 = nn.Conv2d(in_channels, out_channels, kernel_size=1)\n",
    "        \n",
    "        # The pooling layers with different kernel sizes\n",
    "        self.pool1 = nn.MaxPool2d(kernel_size=5, stride=1, padding=2)\n",
    "        self.pool2 = nn.MaxPool2d(kernel_size=9, stride=1, padding=4)\n",
    "        self.pool3 = nn.MaxPool2d(kernel_size=13, stride=1, padding=6)\n",
    "        \n",
    "        # Final convolution to combine the pooled features\n",
    "        self.conv2 = nn.Conv2d(out_channels * 4, out_channels, kernel_size=1)\n",
    "        \n",
    "    def forward(self, x):\n",
    "        # Initial convolution\n",
    "        x = self.conv1(x)\n",
    "        \n",
    "        # Apply the different pooling operations at different scales\n",
    "        pool1_out = self.pool1(x)\n",
    "        pool2_out = self.pool2(x)\n",
    "        pool3_out = self.pool3(x)\n",
    "        \n",
    "        # Concatenate the pooled outputs along the channel dimension\n",
    "        x = torch.cat([x, pool1_out, pool2_out, pool3_out], dim=1)\n",
    "        \n",
    "        # Apply final convolution to reduce the channels\n",
    "        x = self.conv2(x)\n",
    "        \n",
    "        return x"
   ]
  },
  {
   "cell_type": "code",
   "execution_count": null,
   "id": "effa142d-8e17-4040-8e5b-8510f7f3d2b2",
   "metadata": {},
   "outputs": [],
   "source": [
    "class C3Block(nn.Module):\n",
    "    def __init__(self, in_channels, out_channels, num_conv=1, groups=1):\n",
    "        super(C3Block, self).__init__()\n",
    "\n",
    "        # Initial Conv Layer (1x1)\n",
    "        self.conv1 = nn.Conv2d(in_channels, out_channels // 2, kernel_size=1)\n",
    "\n",
    "        # Sequential 3x3 Convolutions\n",
    "        self.convs = nn.ModuleList([nn.Conv2d(out_channels // 2, out_channels // 2, kernel_size=3, padding=1) for _ in range(num_conv)])\n",
    "\n",
    "        # Final 1x1 convolution to adjust the output channels\n",
    "        self.conv2 = nn.Conv2d(out_channels, out_channels, kernel_size=1)\n",
    "\n",
    "    def forward(self, x):\n",
    "        # First part: Apply 1x1 convolution\n",
    "        x1 = self.conv1(x)\n",
    "\n",
    "        # Second part: Apply multiple 3x3 convolutions (num_conv layers)\n",
    "        x2 = x1\n",
    "        for conv in self.convs:\n",
    "            x2 = conv(x2)\n",
    "\n",
    "        # Concatenate the outputs from both paths\n",
    "        x = torch.cat([x1, x2], dim=1)\n",
    "\n",
    "        # Final 1x1 convolution to reduce the concatenated channels\n",
    "        x = self.conv2(x)\n",
    "\n",
    "        return x"
   ]
  },
  {
   "cell_type": "code",
   "execution_count": null,
   "id": "4bc8f94d-4ab6-4599-8861-b5e91eecc0f1",
   "metadata": {},
   "outputs": [],
   "source": []
  },
  {
   "cell_type": "code",
   "execution_count": null,
   "id": "88871a8b-9c1e-416e-8632-b6ff6a23f2db",
   "metadata": {},
   "outputs": [],
   "source": []
  },
  {
   "cell_type": "code",
   "execution_count": null,
   "id": "16d3c9ee-9169-455a-963e-824d4d04e60f",
   "metadata": {},
   "outputs": [],
   "source": []
  }
 ],
 "metadata": {
  "kernelspec": {
   "display_name": "Python 3 (ipykernel)",
   "language": "python",
   "name": "python3"
  },
  "language_info": {
   "codemirror_mode": {
    "name": "ipython",
    "version": 3
   },
   "file_extension": ".py",
   "mimetype": "text/x-python",
   "name": "python",
   "nbconvert_exporter": "python",
   "pygments_lexer": "ipython3",
   "version": "3.12.3"
  }
 },
 "nbformat": 4,
 "nbformat_minor": 5
}
