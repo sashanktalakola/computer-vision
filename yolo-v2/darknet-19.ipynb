{
 "cells": [
  {
   "cell_type": "code",
   "execution_count": null,
   "id": "8f555981-9e24-40bb-8996-717a53b3ac37",
   "metadata": {},
   "outputs": [],
   "source": [
    "import torch\n",
    "import torch.nn as nn\n",
    "import torch.nn.functional as F\n",
    "\n",
    "class Darknet19(nn.Module):\n",
    "    def __init__(self):\n",
    "        super(Darknet19, self).__init__()\n",
    "\n",
    "        # Define the layers as described in Darknet-19\n",
    "        self.conv1 = self.conv_block(3, 32)\n",
    "        self.conv2 = self.conv_block(32, 64, stride=2)\n",
    "        self.conv3 = self.conv_block(64, 128)\n",
    "        self.conv4 = self.conv_block(128, 256, stride=2)\n",
    "        self.conv5 = self.conv_block(256, 512)\n",
    "        self.conv6 = self.conv_block(512, 1024, stride=2)\n",
    "\n",
    "        # The final convolutional layer with 1024 filters and 1x1 kernel (for output feature map)\n",
    "        self.final_conv = nn.Conv2d(1024, 1024, kernel_size=1, stride=1, padding=0)\n",
    "\n",
    "    def conv_block(self, in_channels, out_channels, kernel_size=3, stride=1):\n",
    "        \"\"\"\n",
    "        A block of Convolution -> BatchNorm -> LeakyReLU\n",
    "        \"\"\"\n",
    "        return nn.Sequential(\n",
    "            nn.Conv2d(in_channels, out_channels, kernel_size=kernel_size, stride=stride, padding=1),\n",
    "            nn.BatchNorm2d(out_channels),\n",
    "            nn.LeakyReLU(0.1, inplace=True)\n",
    "        )\n",
    "\n",
    "    def forward(self, x):\n",
    "        # Pass input through each layer block\n",
    "        x = self.conv1(x)\n",
    "        x = self.conv2(x)\n",
    "        x = self.conv3(x)\n",
    "        x = self.conv4(x)\n",
    "        x = self.conv5(x)\n",
    "        x = self.conv6(x)\n",
    "\n",
    "        # Final 1x1 convolution to reduce output depth\n",
    "        x = self.final_conv(x)\n",
    "        \n",
    "        return x\n",
    "        "
   ]
  },
  {
   "cell_type": "code",
   "execution_count": null,
   "id": "947f100a-6550-441b-b092-c00ba49e9d56",
   "metadata": {},
   "outputs": [],
   "source": []
  }
 ],
 "metadata": {
  "kernelspec": {
   "display_name": "Python 3 (ipykernel)",
   "language": "python",
   "name": "python3"
  },
  "language_info": {
   "codemirror_mode": {
    "name": "ipython",
    "version": 3
   },
   "file_extension": ".py",
   "mimetype": "text/x-python",
   "name": "python",
   "nbconvert_exporter": "python",
   "pygments_lexer": "ipython3",
   "version": "3.12.3"
  }
 },
 "nbformat": 4,
 "nbformat_minor": 5
}
