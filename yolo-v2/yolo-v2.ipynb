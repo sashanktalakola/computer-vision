{
 "cells": [
  {
   "cell_type": "code",
   "execution_count": null,
   "id": "9eb5e301-a29f-414b-9b3a-e7eb1a8366e1",
   "metadata": {},
   "outputs": [],
   "source": [
    "import torch\n",
    "import torch.nn as nn\n",
    "import torch.nn.functional as F\n",
    "\n",
    "\n",
    "class YOLOv2(nn.Module):\n",
    "    def __init__(self, num_classes, anchors, grid_size=13, num_bboxes=5):\n",
    "        super(YOLOv2, self).__init__()\n",
    "\n",
    "        # Initialize Darknet-19 backbone\n",
    "        self.backbone = Darknet19() # Implemented in darknet19.ipynb\n",
    "\n",
    "        # Final detection layer: 1x1 convolution to predict bounding boxes and class probabilities\n",
    "        # Output channels are: (B * 5 + C), where B is number of bounding boxes per grid,\n",
    "        # 5 for (x, y, w, h, confidence), and C is number of classes.\n",
    "        self.det_conv = nn.Conv2d(1024, num_bboxes * (5 + num_classes), kernel_size=1, stride=1, padding=0)\n",
    "\n",
    "        self.grid_size = grid_size\n",
    "        self.num_bboxes = num_bboxes\n",
    "        self.num_classes = num_classes\n",
    "        self.anchors = anchors  # List of anchor box dimensions\n",
    "\n",
    "    def forward(self, x):\n",
    "        # Pass through the backbone to get feature map\n",
    "        x = self.backbone(x)\n",
    "\n",
    "        # Pass through the detection convolution layer\n",
    "        output = self.det_conv(x)\n",
    "\n",
    "        # Reshape the output to (batch_size, grid_size, grid_size, B*(5 + C))\n",
    "        output = output.view(output.size(0), self.num_bboxes * (5 + self.num_classes), self.grid_size, self.grid_size)\n",
    "\n",
    "        # Permute to (batch_size, grid_size, grid_size, B*(5 + C)) \n",
    "        # for easier access to bounding box parameters\n",
    "        output = output.permute(0, 2, 3, 1)\n",
    "\n",
    "        return output\n"
   ]
  },
  {
   "cell_type": "code",
   "execution_count": null,
   "id": "a5336acd-e103-4ccd-abca-69b3b030cba1",
   "metadata": {},
   "outputs": [],
   "source": []
  }
 ],
 "metadata": {
  "kernelspec": {
   "display_name": "Python 3 (ipykernel)",
   "language": "python",
   "name": "python3"
  },
  "language_info": {
   "codemirror_mode": {
    "name": "ipython",
    "version": 3
   },
   "file_extension": ".py",
   "mimetype": "text/x-python",
   "name": "python",
   "nbconvert_exporter": "python",
   "pygments_lexer": "ipython3",
   "version": "3.12.3"
  }
 },
 "nbformat": 4,
 "nbformat_minor": 5
}
