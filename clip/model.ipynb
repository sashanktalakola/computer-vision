{
 "cells": [
  {
   "cell_type": "code",
   "execution_count": null,
   "id": "3fe2f102-0ffa-4eef-bd29-38b6248499e4",
   "metadata": {},
   "outputs": [],
   "source": [
    "import torch\n",
    "import torch.nn as nn\n",
    "\n",
    "from encoders import CLIPResNetEncoder, CLIPImageEncoder"
   ]
  },
  {
   "cell_type": "code",
   "execution_count": null,
   "id": "87d62329-0d33-4104-9aa2-1f08d9ed5ab3",
   "metadata": {},
   "outputs": [],
   "source": []
  },
  {
   "cell_type": "code",
   "execution_count": null,
   "id": "2327a859-8a3c-40fa-b88b-2221aee4f4e8",
   "metadata": {},
   "outputs": [],
   "source": [
    "test_model = CLIPResNetEncoder()\n",
    "\n",
    "batch_size = 32\n",
    "dummy_input = torch.randn(batch_size, 3, 224, 224)\n",
    "\n",
    "output = test_model(dummy_input)\n",
    "output.size()"
   ]
  },
  {
   "cell_type": "code",
   "execution_count": null,
   "id": "d90af610-73c1-45cc-8a4e-a3f849035de0",
   "metadata": {},
   "outputs": [],
   "source": [
    "test_model = CLIPImageEncoder()\n",
    "\n",
    "batch_size = 32\n",
    "dummy_input = torch.randn(batch_size, 3, 224, 224)\n",
    "\n",
    "output = test_model(dummy_input)\n",
    "output.size()"
   ]
  },
  {
   "cell_type": "code",
   "execution_count": null,
   "id": "5f0d6ffd-ce81-47af-a910-e4f9a6f29930",
   "metadata": {},
   "outputs": [],
   "source": []
  }
 ],
 "metadata": {
  "kernelspec": {
   "display_name": "Python 3 (ipykernel)",
   "language": "python",
   "name": "python3"
  },
  "language_info": {
   "codemirror_mode": {
    "name": "ipython",
    "version": 3
   },
   "file_extension": ".py",
   "mimetype": "text/x-python",
   "name": "python",
   "nbconvert_exporter": "python",
   "pygments_lexer": "ipython3",
   "version": "3.12.3"
  }
 },
 "nbformat": 4,
 "nbformat_minor": 5
}
