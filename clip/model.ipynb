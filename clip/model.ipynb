{
 "cells": [
  {
   "cell_type": "code",
   "execution_count": null,
   "id": "3fe2f102-0ffa-4eef-bd29-38b6248499e4",
   "metadata": {},
   "outputs": [],
   "source": [
    "import torch\n",
    "import torch.nn as nn\n",
    "\n",
    "from encoders import CLIPResNetEncoder, CLIPViTEncoder\n",
    "from transformers import AutoTokenizer, AutoModel"
   ]
  },
  {
   "cell_type": "code",
   "execution_count": null,
   "id": "87d62329-0d33-4104-9aa2-1f08d9ed5ab3",
   "metadata": {},
   "outputs": [],
   "source": []
  },
  {
   "cell_type": "code",
   "execution_count": null,
   "id": "5f0d6ffd-ce81-47af-a910-e4f9a6f29930",
   "metadata": {},
   "outputs": [],
   "source": [
    "class CLIPGPT2Encoder(nn.Module):\n",
    "    def __init__(self, projection_dim=512):\n",
    "        super().__init__()\n",
    "        \n",
    "        self.transformer = AutoModel.from_pretrained('gpt2')\n",
    "        self.tokenizer = AutoTokenizer.from_pretrained('gpt2')\n",
    "        \n",
    "        self.projection = nn.Sequential(\n",
    "            nn.LayerNorm(768),\n",
    "            nn.Linear(768, projection_dim)\n",
    "        )\n",
    "        \n",
    "        self.max_length = 77\n",
    "\n",
    "    def forward(self, input_ids, attention_mask=None):\n",
    "        outputs = self.transformer(\n",
    "            input_ids=input_ids,\n",
    "            attention_mask=attention_mask,\n",
    "            return_dict=True\n",
    "        )\n",
    "        \n",
    "        # Mean pooling\n",
    "        last_hidden_state = outputs.last_hidden_state\n",
    "        pooled_output = (last_hidden_state * attention_mask.unsqueeze(-1)).sum(1) / attention_mask.sum(1).unsqueeze(-1)\n",
    "        \n",
    "        projected = self.projection(pooled_output)\n",
    "        text_features = projected / projected.norm(dim=-1, keepdim=True)\n",
    "        \n",
    "        return text_features"
   ]
  },
  {
   "cell_type": "code",
   "execution_count": null,
   "id": "ea8b633e-8fb1-442d-96bc-ac44f799d3e8",
   "metadata": {},
   "outputs": [],
   "source": []
  }
 ],
 "metadata": {
  "kernelspec": {
   "display_name": "Python 3 (ipykernel)",
   "language": "python",
   "name": "python3"
  },
  "language_info": {
   "codemirror_mode": {
    "name": "ipython",
    "version": 3
   },
   "file_extension": ".py",
   "mimetype": "text/x-python",
   "name": "python",
   "nbconvert_exporter": "python",
   "pygments_lexer": "ipython3",
   "version": "3.12.3"
  }
 },
 "nbformat": 4,
 "nbformat_minor": 5
}
