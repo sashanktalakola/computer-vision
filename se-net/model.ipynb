{
 "cells": [
  {
   "cell_type": "code",
   "execution_count": null,
   "id": "739b0f2e-ca95-4286-a03c-5e0f9896ba26",
   "metadata": {},
   "outputs": [],
   "source": [
    "import torch\n",
    "import torch.nn as nn\n",
    "import torch.nn.functional as F"
   ]
  },
  {
   "cell_type": "code",
   "execution_count": null,
   "id": "e52a2ad4-046b-4244-a972-8904ccae5d59",
   "metadata": {},
   "outputs": [],
   "source": []
  },
  {
   "cell_type": "code",
   "execution_count": null,
   "id": "6ad28226-eb3a-4107-a8dd-2b8b2f24cd16",
   "metadata": {},
   "outputs": [],
   "source": [
    "class SEBlock(nn.Module):\n",
    "    def __init__(self, in_channels, reduction=16):\n",
    "        super(SEBlock, self).__init__()\n",
    "        # Adaptive Average Pooling to squeeze channel-wise statistics\n",
    "        self.avg_pool = nn.AdaptiveAvgPool2d(1)\n",
    "        # Excitation: two fully connected layers (1x1 convolutions)\n",
    "        self.fc1 = nn.Conv2d(in_channels, in_channels // reduction, kernel_size=1, bias=False)\n",
    "        self.fc2 = nn.Conv2d(in_channels // reduction, in_channels, kernel_size=1, bias=False)\n",
    "        # Sigmoid activation to generate the attention weights\n",
    "        self.sigmoid = nn.Sigmoid()\n",
    "\n",
    "    def forward(self, x):\n",
    "        # Squeeze: global average pooling\n",
    "        squeeze = self.avg_pool(x)\n",
    "        # Excitation: pass through two fully connected layers (1x1 convolutions)\n",
    "        excitation = self.fc1(squeeze)\n",
    "        excitation = F.relu(excitation)\n",
    "        excitation = self.fc2(excitation)\n",
    "        # Apply sigmoid to scale the output between 0 and 1 (channel-wise attention)\n",
    "        excitation = self.sigmoid(excitation)\n",
    "        return x * excitation"
   ]
  },
  {
   "cell_type": "code",
   "execution_count": null,
   "id": "ddbe9455-30b4-4c00-989d-4c617ac01bc0",
   "metadata": {},
   "outputs": [],
   "source": []
  },
  {
   "cell_type": "code",
   "execution_count": null,
   "id": "4db13ccf-01db-43df-9e3d-a355611e2ef4",
   "metadata": {},
   "outputs": [],
   "source": [
    "class ResidualBlockWithSE(nn.Module):\n",
    "    def __init__(self, in_channels, out_channels, stride=1, reduction=16):\n",
    "        super(ResidualBlockWithSE, self).__init__()\n",
    "        # First convolutional layer\n",
    "        self.conv1 = nn.Conv2d(in_channels, out_channels, kernel_size=3, stride=stride, padding=1, bias=False)\n",
    "        self.bn1 = nn.BatchNorm2d(out_channels)\n",
    "        self.relu = nn.ReLU(inplace=True)\n",
    "        # Second convolutional layer\n",
    "        self.conv2 = nn.Conv2d(out_channels, out_channels, kernel_size=3, padding=1, bias=False)\n",
    "        self.bn2 = nn.BatchNorm2d(out_channels)\n",
    "        # Squeeze-and-Excitation block\n",
    "        self.se_block = SEBlock(out_channels, reduction)\n",
    "        # Shortcut connection to match input and output dimensions\n",
    "        self.shortcut = nn.Sequential()\n",
    "        if stride != 1 or in_channels != out_channels:\n",
    "            self.shortcut = nn.Sequential(\n",
    "                nn.Conv2d(in_channels, out_channels, kernel_size=1, stride=stride, bias=False),\n",
    "                nn.BatchNorm2d(out_channels)\n",
    "            )\n",
    "\n",
    "    def forward(self, x):\n",
    "        # Perform the convolution operation\n",
    "        out = self.conv1(x)\n",
    "        out = self.bn1(out)\n",
    "        out = self.relu(out)\n",
    "        out = self.conv2(out)\n",
    "        out = self.bn2(out)\n",
    "        # Apply SE block\n",
    "        out = self.se_block(out)\n",
    "        # Add the shortcut connection\n",
    "        out += self.shortcut(x)\n",
    "        out = self.relu(out)\n",
    "        return out"
   ]
  },
  {
   "cell_type": "code",
   "execution_count": null,
   "id": "4bb5b355-2699-4d3a-a33d-75e35d17bff7",
   "metadata": {},
   "outputs": [],
   "source": []
  }
 ],
 "metadata": {
  "kernelspec": {
   "display_name": "Python 3 (ipykernel)",
   "language": "python",
   "name": "python3"
  },
  "language_info": {
   "codemirror_mode": {
    "name": "ipython",
    "version": 3
   },
   "file_extension": ".py",
   "mimetype": "text/x-python",
   "name": "python",
   "nbconvert_exporter": "python",
   "pygments_lexer": "ipython3",
   "version": "3.12.3"
  }
 },
 "nbformat": 4,
 "nbformat_minor": 5
}
