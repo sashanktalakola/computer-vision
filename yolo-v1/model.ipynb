{
 "cells": [
  {
   "cell_type": "code",
   "execution_count": 1,
   "id": "80467dc8-f0f6-4569-a4b9-eefda71a0663",
   "metadata": {},
   "outputs": [],
   "source": [
    "import torch\n",
    "import torch.nn as nn"
   ]
  },
  {
   "cell_type": "code",
   "execution_count": null,
   "id": "fc630bb3-5d5d-4d53-8c25-696926ca386f",
   "metadata": {},
   "outputs": [],
   "source": []
  },
  {
   "cell_type": "code",
   "execution_count": null,
   "id": "8e4f4719-e4b5-44bd-a790-0b39bae0cb54",
   "metadata": {},
   "outputs": [],
   "source": [
    "class ConvBlock(nn.Module):\n",
    "    def __init__(self, in_channels, out_channels, kernel_size, stride=1, padding=0, use_bn=True):\n",
    "        super(ConvBlock, self).__init__()\n",
    "        \n",
    "        # Convolutional Layer\n",
    "        self.conv = nn.Conv2d(in_channels, out_channels, kernel_size=kernel_size, stride=stride, padding=padding)\n",
    "        \n",
    "        # Batch Normalization (optional)\n",
    "        self.bn = nn.BatchNorm2d(out_channels) if use_bn else nn.Identity()\n",
    "        \n",
    "        # Activation function (ReLU)\n",
    "        self.relu = nn.ReLU(inplace=True)\n",
    "    \n",
    "    def forward(self, x):\n",
    "        # Apply Conv, BatchNorm, ReLU (no pooling)\n",
    "        x = self.conv(x)\n",
    "        x = self.bn(x)\n",
    "        x = self.relu(x)\n",
    "        return x"
   ]
  },
  {
   "cell_type": "code",
   "execution_count": null,
   "id": "00363808-6a4c-402d-a5e8-eca77b2a7138",
   "metadata": {},
   "outputs": [],
   "source": []
  },
  {
   "cell_type": "code",
   "execution_count": null,
   "id": "1f0f8b6e-8153-44cd-a7aa-2c51af9ce4c6",
   "metadata": {},
   "outputs": [],
   "source": [
    "class Backbone(nn.Module):\n",
    "    def __init__(self):\n",
    "        super(Backbone, self).__init__()\n",
    "        \n",
    "        # Block 1: Initial conv block and maxpool\n",
    "        self.block1 = nn.Sequential(\n",
    "            ConvBlock(3, 64, kernel_size=7, stride=2, padding=3, use_bn=True),\n",
    "        )\n",
    "        self.pool1 = nn.MaxPool2d(kernel_size=2, stride=2)\n",
    "        \n",
    "        # Block 2: Convolution + Maxpool\n",
    "        self.block2 = nn.Sequential(\n",
    "            ConvBlock(64, 192, kernel_size=3, stride=1, padding=1, use_bn=True),\n",
    "        )\n",
    "        self.pool2 = nn.MaxPool2d(kernel_size=2, stride=2)\n",
    "        \n",
    "        # Block 3: Mixed convolutions + maxpool\n",
    "        self.block3 = nn.Sequential(\n",
    "            ConvBlock(192, 128, kernel_size=1, stride=1, padding=0, use_bn=True),\n",
    "            ConvBlock(128, 256, kernel_size=3, stride=1, padding=1, use_bn=True),\n",
    "            ConvBlock(256, 256, kernel_size=1, stride=1, padding=0, use_bn=True),\n",
    "            ConvBlock(256, 512, kernel_size=3, stride=1, padding=1, use_bn=True),\n",
    "        )\n",
    "        self.pool3 = nn.MaxPool2d(kernel_size=2, stride=2)\n",
    "        \n",
    "        # Block 4: 4 repetitions of (1x1, 3x3) + final 1x1 and 3x3 convs\n",
    "        self.block4 = nn.Sequential(\n",
    "            *[ConvBlock(512, 256, kernel_size=1, stride=1, padding=0, use_bn=True),\n",
    "              ConvBlock(256, 512, kernel_size=3, stride=1, padding=1, use_bn=True)] * 4,\n",
    "            ConvBlock(512, 512, kernel_size=1, stride=1, padding=0, use_bn=True),\n",
    "            ConvBlock(512, 1024, kernel_size=3, stride=1, padding=1, use_bn=True),\n",
    "        )\n",
    "        self.pool4 = nn.MaxPool2d(kernel_size=2, stride=2)\n",
    "        \n",
    "        # Block 5: Additional convolutions\n",
    "        self.block5 = nn.Sequential(\n",
    "            ConvBlock(1024, 512, kernel_size=1, stride=1, padding=0, use_bn=True),\n",
    "            ConvBlock(512, 1024, kernel_size=3, stride=1, padding=1, use_bn=True),\n",
    "            ConvBlock(1024, 1024, kernel_size=3, stride=1, padding=1, use_bn=True),\n",
    "            ConvBlock(1024, 1024, kernel_size=3, stride=2, padding=1, use_bn=True),\n",
    "        )\n",
    "        \n",
    "        # Block 6: Final convolution layers\n",
    "        self.block6 = nn.Sequential(\n",
    "            ConvBlock(1024, 1024, kernel_size=3, stride=1, padding=1, use_bn=True),\n",
    "            ConvBlock(1024, 1024, kernel_size=3, stride=1, padding=1, use_bn=True),\n",
    "        )\n",
    "    \n",
    "    def forward(self, x):\n",
    "        # Pass through convolutional blocks and pooling layers\n",
    "        x = self.block1(x)\n",
    "        x = self.pool1(x)\n",
    "        \n",
    "        x = self.block2(x)\n",
    "        x = self.pool2(x)\n",
    "        \n",
    "        x = self.block3(x)\n",
    "        x = self.pool3(x)\n",
    "        \n",
    "        x = self.block4(x)\n",
    "        x = self.pool4(x)\n",
    "        \n",
    "        x = self.block5(x)\n",
    "        \n",
    "        x = self.block6(x)\n",
    "        \n",
    "        return x\n"
   ]
  },
  {
   "cell_type": "code",
   "execution_count": null,
   "id": "843557c7-3699-46eb-ae94-9a447424f9ea",
   "metadata": {},
   "outputs": [],
   "source": []
  },
  {
   "cell_type": "code",
   "execution_count": null,
   "id": "dc13360c-1fdb-4b84-a8a3-95b65a686154",
   "metadata": {},
   "outputs": [],
   "source": [
    "class PredictionHead(nn.Module):\n",
    "    def __init__(self):\n",
    "        super(PredictionHead, self).__init__()\n",
    "\n",
    "        nn.fc1 = nn.Linear(1024 * 7 * 7, 4096)\n",
    "        nn.fc2 = nn.Linear(4096, 1470)\n",
    "\n",
    "        nn.relu = nn.ReLU(inplace=True)"
   ]
  },
  {
   "cell_type": "code",
   "execution_count": null,
   "id": "1b0507a6-34ce-438d-a6dc-539e200edcfc",
   "metadata": {},
   "outputs": [],
   "source": []
  }
 ],
 "metadata": {
  "kernelspec": {
   "display_name": "Python 3 (ipykernel)",
   "language": "python",
   "name": "python3"
  },
  "language_info": {
   "codemirror_mode": {
    "name": "ipython",
    "version": 3
   },
   "file_extension": ".py",
   "mimetype": "text/x-python",
   "name": "python",
   "nbconvert_exporter": "python",
   "pygments_lexer": "ipython3",
   "version": "3.12.3"
  }
 },
 "nbformat": 4,
 "nbformat_minor": 5
}
