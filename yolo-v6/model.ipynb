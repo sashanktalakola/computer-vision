{
 "cells": [
  {
   "cell_type": "code",
   "execution_count": null,
   "id": "bffcda69-90e4-4ec2-b0e0-547c5b6d03aa",
   "metadata": {},
   "outputs": [],
   "source": [
    "import torch\n",
    "import torch.nn as nn\n",
    "import torch.nn.functional as F"
   ]
  },
  {
   "cell_type": "code",
   "execution_count": null,
   "id": "683139b8-de48-44f2-9aa8-744249e55b81",
   "metadata": {},
   "outputs": [],
   "source": []
  },
  {
   "cell_type": "code",
   "execution_count": null,
   "id": "372770a3-f9a7-4f5f-81d8-6a1363a367a9",
   "metadata": {},
   "outputs": [],
   "source": [
    "class RepConv(nn.Module):\n",
    "    def __init__(self, in_channels, out_channels, kernel_size, stride, padding, activation=True):\n",
    "        super(RepConv, self).__init__()\n",
    "        self.activation = activation\n",
    "        self.conv = nn.Conv2d(in_channels, out_channels, kernel_size, stride, padding, bias=False)\n",
    "        self.bn = nn.BatchNorm2d(out_channels)\n",
    "        self.relu = nn.ReLU(inplace=True)\n",
    "\n",
    "    def forward(self, x):\n",
    "        x = self.conv(x)\n",
    "        x = self.bn(x)\n",
    "        if self.activation:\n",
    "            x = self.relu(x)\n",
    "        return x"
   ]
  },
  {
   "cell_type": "code",
   "execution_count": null,
   "id": "ce867ef5-2592-4076-8a60-36175e34c165",
   "metadata": {},
   "outputs": [],
   "source": [
    "class DWConv(nn.Module):\n",
    "    def __init__(self, in_channels, out_channels, kernel_size, stride, padding, activation=True):\n",
    "        super(DWConv, self).__init__()\n",
    "        self.activation = activation\n",
    "        self.dwconv = nn.Conv2d(in_channels, in_channels, kernel_size, stride, padding, groups=in_channels, bias=False)\n",
    "        self.pointwise = nn.Conv2d(in_channels, out_channels, 1, 1, 0, bias=False)\n",
    "        self.bn = nn.BatchNorm2d(out_channels)\n",
    "        self.relu = nn.ReLU(inplace=True)\n",
    "\n",
    "    def forward(self, x):\n",
    "        x = self.dwconv(x)\n",
    "        x = self.pointwise(x)\n",
    "        x = self.bn(x)\n",
    "        if self.activation:\n",
    "            x = self.relu(x)\n",
    "        return x"
   ]
  },
  {
   "cell_type": "code",
   "execution_count": null,
   "id": "e913eafa-50dc-4e57-b8f6-dad837a671f3",
   "metadata": {},
   "outputs": [],
   "source": []
  },
  {
   "cell_type": "code",
   "execution_count": null,
   "id": "0e1a2f18-1bec-43b4-a9cf-b747ae6fc593",
   "metadata": {},
   "outputs": [],
   "source": [
    "class EfficientRepBlock(nn.Module):\n",
    "    def __init__(self, in_channels, out_channels, kernel_size, stride, padding):\n",
    "        super(EfficientRepBlock, self).__init__()\n",
    "        # Depthwise Separable Convolution\n",
    "        self.dwconv = DWConv(in_channels, out_channels, kernel_size, stride, padding)\n",
    "        # Reparameterized Conv for efficient computation\n",
    "        self.repconv = RepConv(out_channels, out_channels, kernel_size, stride, padding)\n",
    "\n",
    "    def forward(self, x):\n",
    "        x = self.dwconv(x)\n",
    "        x = self.repconv(x)\n",
    "        return x"
   ]
  },
  {
   "cell_type": "code",
   "execution_count": null,
   "id": "c5866c7b-ce31-4da9-9829-2b39e5ca097c",
   "metadata": {},
   "outputs": [],
   "source": [
    "class EfficientRepBackbone(nn.Module):\n",
    "    def __init__(self, num_blocks=4):\n",
    "        super(EfficientRepBackbone, self).__init__()\n",
    "        self.initial_conv = nn.Conv2d(3, 64, kernel_size=3, stride=2, padding=1, bias=False)  # Initial conv\n",
    "        self.initial_bn = nn.BatchNorm2d(64)\n",
    "        self.initial_relu = nn.ReLU(inplace=True)\n",
    "\n",
    "        # Stack of EfficientRep Blocks\n",
    "        self.blocks = nn.ModuleList([\n",
    "            EfficientRepBlock(64, 128, kernel_size=3, stride=2, padding=1),\n",
    "            EfficientRepBlock(128, 256, kernel_size=3, stride=2, padding=1),\n",
    "            EfficientRepBlock(256, 512, kernel_size=3, stride=2, padding=1),\n",
    "            EfficientRepBlock(512, 1024, kernel_size=3, stride=2, padding=1)\n",
    "        ])\n",
    "\n",
    "        # Additional blocks to produce feature maps at different stages\n",
    "        self.stage_C3 = EfficientRepBlock(128, 256, kernel_size=3, stride=2, padding=1)  # C3 output\n",
    "        self.stage_C4 = EfficientRepBlock(256, 512, kernel_size=3, stride=2, padding=1)  # C4 output\n",
    "        self.stage_C5 = EfficientRepBlock(512, 1024, kernel_size=3, stride=2, padding=1)  # C5 output\n",
    "\n",
    "    def forward(self, x):\n",
    "        x = self.initial_relu(self.initial_bn(self.initial_conv(x)))\n",
    "\n",
    "        # Pass through the blocks\n",
    "        x = self.blocks[0](x)  # Block 1\n",
    "        C3 = self.stage_C3(x)  # C3 output (after first stage)\n",
    "\n",
    "        x = self.blocks[1](x)  # Block 2\n",
    "        C4 = self.stage_C4(x)  # C4 output (after second stage)\n",
    "\n",
    "        x = self.blocks[2](x)  # Block 3\n",
    "        C5 = self.stage_C5(x)  # C5 output (after third stage)\n",
    "\n",
    "        # Finally, pass through the last block for full resolution\n",
    "        x = self.blocks[3](x)\n",
    "\n",
    "        # Return C3, C4, C5\n",
    "        return C3, C4, C5"
   ]
  },
  {
   "cell_type": "code",
   "execution_count": null,
   "id": "87f45246-96e0-43f6-b8f6-47f4aa74e8d2",
   "metadata": {},
   "outputs": [],
   "source": []
  }
 ],
 "metadata": {
  "kernelspec": {
   "display_name": "Python 3 (ipykernel)",
   "language": "python",
   "name": "python3"
  },
  "language_info": {
   "codemirror_mode": {
    "name": "ipython",
    "version": 3
   },
   "file_extension": ".py",
   "mimetype": "text/x-python",
   "name": "python",
   "nbconvert_exporter": "python",
   "pygments_lexer": "ipython3",
   "version": "3.12.3"
  }
 },
 "nbformat": 4,
 "nbformat_minor": 5
}
