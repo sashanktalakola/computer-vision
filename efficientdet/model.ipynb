{
 "cells": [
  {
   "cell_type": "code",
   "execution_count": null,
   "id": "9cadece8-5ba0-467e-94a1-c3ffca5b4b23",
   "metadata": {},
   "outputs": [],
   "source": [
    "import torch\n",
    "import torch.nn as nn\n",
    "import torch.nn.functional as F"
   ]
  },
  {
   "cell_type": "code",
   "execution_count": null,
   "id": "a340fcde-930e-4a0e-af1e-e1078c3793e4",
   "metadata": {},
   "outputs": [],
   "source": [
    "class SELayer(nn.Module):\n",
    "    def __init__(self, channels, reduction=4):\n",
    "        super(SELayer, self).__init__()\n",
    "        self.fc1 = nn.Linear(channels, channels // reduction, bias=False)\n",
    "        self.fc2 = nn.Linear(channels // reduction, channels, bias=False)\n",
    "\n",
    "    def forward(self, x):\n",
    "        batch_size, channels, height, width = x.size()\n",
    "        y = F.adaptive_avg_pool2d(x, (1, 1)).view(batch_size, channels)\n",
    "        y = F.relu(self.fc1(y))\n",
    "        y = torch.sigmoid(self.fc2(y)).view(batch_size, channels, 1, 1)\n",
    "        return x * y"
   ]
  },
  {
   "cell_type": "code",
   "execution_count": null,
   "id": "93a770e8-5dc8-4e09-bf01-bc6eca7af92c",
   "metadata": {},
   "outputs": [],
   "source": [
    "class ConvBlock(nn.Module):\n",
    "    def __init__(self, in_channels, out_channels, kernel_size, stride, expand_ratio, use_se=False):\n",
    "        super(ConvBlock, self).__init__()\n",
    "        self.expand_ratio = expand_ratio\n",
    "        self.use_se = use_se\n",
    "\n",
    "        self.expand = nn.Conv2d(in_channels, in_channels * expand_ratio, kernel_size=1)\n",
    "        self.bn1 = nn.BatchNorm2d(in_channels * expand_ratio)\n",
    "        self.relu = nn.SiLU()  # Swish activation\n",
    "\n",
    "        self.depthwise = nn.Conv2d(in_channels * expand_ratio, in_channels * expand_ratio, \n",
    "                                    kernel_size=kernel_size, stride=stride, padding=kernel_size // 2, groups=in_channels * expand_ratio)\n",
    "        self.bn2 = nn.BatchNorm2d(in_channels * expand_ratio)\n",
    "\n",
    "        self.project = nn.Conv2d(in_channels * expand_ratio, out_channels, kernel_size=1)\n",
    "        self.bn3 = nn.BatchNorm2d(out_channels)\n",
    "\n",
    "        if self.use_se:\n",
    "            self.se = SELayer(in_channels * expand_ratio)\n",
    "\n",
    "    def forward(self, x):\n",
    "        identity = x\n",
    "\n",
    "        x = self.expand(x)\n",
    "        x = self.bn1(x)\n",
    "        x = self.relu(x)\n",
    "\n",
    "        x = self.depthwise(x)\n",
    "        x = self.bn2(x)\n",
    "\n",
    "        if self.use_se:\n",
    "            x = self.se(x)\n",
    "\n",
    "        x = self.project(x)\n",
    "        x = self.bn3(x)\n",
    "\n",
    "        return x + identity "
   ]
  },
  {
   "cell_type": "code",
   "execution_count": null,
   "id": "0fd0ba24-f27e-413f-bf5c-a31e35b08b16",
   "metadata": {},
   "outputs": [],
   "source": []
  }
 ],
 "metadata": {
  "kernelspec": {
   "display_name": "Python 3 (ipykernel)",
   "language": "python",
   "name": "python3"
  },
  "language_info": {
   "codemirror_mode": {
    "name": "ipython",
    "version": 3
   },
   "file_extension": ".py",
   "mimetype": "text/x-python",
   "name": "python",
   "nbconvert_exporter": "python",
   "pygments_lexer": "ipython3",
   "version": "3.12.3"
  }
 },
 "nbformat": 4,
 "nbformat_minor": 5
}
