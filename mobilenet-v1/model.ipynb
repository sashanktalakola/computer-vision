{
 "cells": [
  {
   "cell_type": "code",
   "execution_count": null,
   "id": "d7cf7708-fa10-4159-b2da-37dd11274564",
   "metadata": {},
   "outputs": [],
   "source": [
    "import torch\n",
    "import torch.nn as nn\n",
    "import torch.nn.functional as F"
   ]
  },
  {
   "cell_type": "code",
   "execution_count": null,
   "id": "6a9e2e18-900c-46c6-a709-146572577b64",
   "metadata": {},
   "outputs": [],
   "source": []
  },
  {
   "cell_type": "code",
   "execution_count": null,
   "id": "47b6c9c5-a8e4-4c5e-8fe2-902fe0ea1dfd",
   "metadata": {},
   "outputs": [],
   "source": [
    "class DepthwiseSeparableConv(nn.Module):\n",
    "    def __init__(self, in_channels, out_channels, stride):\n",
    "        super(DepthwiseSeparableConv, self).__init__()\n",
    "        # Depthwise Convolution\n",
    "        self.depthwise = nn.Conv2d(in_channels, in_channels, kernel_size=3, stride=stride, padding=1, groups=in_channels, bias=False)\n",
    "        # Pointwise Convolution\n",
    "        self.pointwise = nn.Conv2d(in_channels, out_channels, kernel_size=1, stride=1, padding=0, bias=False)\n",
    "        # Batch Normalization layers for both convolutions\n",
    "        self.bn1 = nn.BatchNorm2d(in_channels)\n",
    "        self.bn2 = nn.BatchNorm2d(out_channels)\n",
    "        \n",
    "    def forward(self, x):\n",
    "        x = self.bn1(F.relu(self.depthwise(x)))\n",
    "        x = self.bn2(F.relu(self.pointwise(x)))\n",
    "        return x"
   ]
  },
  {
   "cell_type": "code",
   "execution_count": null,
   "id": "367e06a1-3c8f-4c13-adad-13b82824fc40",
   "metadata": {},
   "outputs": [],
   "source": []
  },
  {
   "cell_type": "code",
   "execution_count": null,
   "id": "cd920634-9d8d-4543-8663-775cbb67e0fd",
   "metadata": {},
   "outputs": [],
   "source": [
    "class MobileNetV1(nn.Module):\n",
    "    def __init__(self, num_classes=1000):\n",
    "        super(MobileNetV1, self).__init__()\n",
    "        \n",
    "        # Initial standard convolution\n",
    "        self.conv1 = nn.Conv2d(3, 32, kernel_size=3, stride=2, padding=1, bias=False)\n",
    "        self.bn1 = nn.BatchNorm2d(32)\n",
    "        \n",
    "        # Sequence of depthwise separable convolutions\n",
    "        self.features = nn.Sequential(\n",
    "            DepthwiseSeparableConv(32, 64, stride=1),\n",
    "            DepthwiseSeparableConv(64, 128, stride=2),\n",
    "            DepthwiseSeparableConv(128, 128, stride=1),\n",
    "            DepthwiseSeparableConv(128, 256, stride=2),\n",
    "            DepthwiseSeparableConv(256, 256, stride=1),\n",
    "            DepthwiseSeparableConv(256, 512, stride=2),\n",
    "            DepthwiseSeparableConv(512, 512, stride=1),\n",
    "            DepthwiseSeparableConv(512, 512, stride=1),\n",
    "            DepthwiseSeparableConv(512, 512, stride=1),\n",
    "            DepthwiseSeparableConv(512, 1024, stride=2),\n",
    "            DepthwiseSeparableConv(1024, 1024, stride=1)\n",
    "        )\n",
    "        \n",
    "        # Global Average Pooling\n",
    "        self.avgpool = nn.AdaptiveAvgPool2d(1)\n",
    "        \n",
    "        # Fully connected layer\n",
    "        self.fc = nn.Linear(1024, num_classes)\n",
    "    \n",
    "    def forward(self, x):\n",
    "        x = self.bn1(F.relu(self.conv1(x)))  # Apply initial conv and BN\n",
    "        x = self.features(x)  # Apply the sequence of depthwise separable convolutions\n",
    "        x = self.avgpool(x)  # Global average pooling\n",
    "        x = torch.flatten(x, 1)  # Flatten the output for the fully connected layer\n",
    "        x = self.fc(x)  # Fully connected output\n",
    "        return x"
   ]
  },
  {
   "cell_type": "code",
   "execution_count": null,
   "id": "a16b2d53-df14-4b1e-b5d8-5d80f7bd8de6",
   "metadata": {},
   "outputs": [],
   "source": []
  }
 ],
 "metadata": {
  "kernelspec": {
   "display_name": "Python 3 (ipykernel)",
   "language": "python",
   "name": "python3"
  },
  "language_info": {
   "codemirror_mode": {
    "name": "ipython",
    "version": 3
   },
   "file_extension": ".py",
   "mimetype": "text/x-python",
   "name": "python",
   "nbconvert_exporter": "python",
   "pygments_lexer": "ipython3",
   "version": "3.12.3"
  }
 },
 "nbformat": 4,
 "nbformat_minor": 5
}
