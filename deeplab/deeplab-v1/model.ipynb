{
 "cells": [
  {
   "cell_type": "code",
   "execution_count": null,
   "id": "d8b3e104-3e9f-47fe-9260-fcdfdeff80b7",
   "metadata": {},
   "outputs": [],
   "source": [
    "import torch\n",
    "import torch.nn as nn\n",
    "import torch.nn.functional as F\n",
    "from torchvision import models"
   ]
  },
  {
   "cell_type": "code",
   "execution_count": null,
   "id": "6b2daa6e-4807-40bf-a199-00fe508cd5e2",
   "metadata": {},
   "outputs": [],
   "source": [
    "class AtrousConv(nn.Module):\n",
    "    def __init__(self, in_channels, out_channels, dilation_rate):\n",
    "        super(AtrousConv, self).__init__()\n",
    "        self.conv = nn.Conv2d(in_channels, out_channels, kernel_size=3, padding=dilation_rate, dilation=dilation_rate)\n",
    "        self.bn = nn.BatchNorm2d(out_channels)\n",
    "        self.relu = nn.ReLU(inplace=True)\n",
    "        \n",
    "    def forward(self, x):\n",
    "        return self.relu(self.bn(self.conv(x)))"
   ]
  },
  {
   "cell_type": "code",
   "execution_count": null,
   "id": "39e11131-0cad-496b-b8c4-e519a3bdbb6c",
   "metadata": {},
   "outputs": [],
   "source": []
  },
  {
   "cell_type": "code",
   "execution_count": null,
   "id": "46ec19ec-b191-4f6f-9440-6bab1841cea2",
   "metadata": {},
   "outputs": [],
   "source": [
    "class DeepLabV1(nn.Module):\n",
    "    def __init__(self, num_classes):\n",
    "        super(DeepLabV1, self).__init__()\n",
    "        \n",
    "        # Load a pre-trained VGG16 model (use it as a feature extractor)\n",
    "        vgg16 = models.vgg16(pretrained=True)\n",
    "        self.features = vgg16.features\n",
    "        \n",
    "        # Atrous convolution layers (with different dilation rates)\n",
    "        self.atrous1 = AtrousConv(512, 512, dilation_rate=6)\n",
    "        self.atrous2 = AtrousConv(512, 512, dilation_rate=12)\n",
    "        self.atrous3 = AtrousConv(512, 512, dilation_rate=18)\n",
    "        \n",
    "        # Final 1x1 convolution for pixel-wise classification\n",
    "        self.classifier = nn.Conv2d(512, num_classes, kernel_size=1)\n",
    "    \n",
    "    def forward(self, x):\n",
    "        # Forward pass through VGG16 feature extractor\n",
    "        x = self.features(x)\n",
    "        \n",
    "        # Apply atrous convolutions for multi-scale feature extraction\n",
    "        x1 = self.atrous1(x)\n",
    "        x2 = self.atrous2(x)\n",
    "        x3 = self.atrous3(x)\n",
    "        \n",
    "        # Combine the multi-scale features by concatenating\n",
    "        x = torch.cat([x1, x2, x3], dim=1)  # Concatenate along channel dimension\n",
    "        \n",
    "        # Apply the final classifier (1x1 convolution to predict classes)\n",
    "        x = self.classifier(x)\n",
    "        \n",
    "        return x"
   ]
  },
  {
   "cell_type": "code",
   "execution_count": null,
   "id": "37a008b3-e29d-46f3-a7bd-55c6d45717bf",
   "metadata": {},
   "outputs": [],
   "source": []
  }
 ],
 "metadata": {
  "kernelspec": {
   "display_name": "Python 3 (ipykernel)",
   "language": "python",
   "name": "python3"
  },
  "language_info": {
   "codemirror_mode": {
    "name": "ipython",
    "version": 3
   },
   "file_extension": ".py",
   "mimetype": "text/x-python",
   "name": "python",
   "nbconvert_exporter": "python",
   "pygments_lexer": "ipython3",
   "version": "3.12.3"
  }
 },
 "nbformat": 4,
 "nbformat_minor": 5
}
