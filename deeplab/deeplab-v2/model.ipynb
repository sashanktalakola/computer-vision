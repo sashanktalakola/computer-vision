{
 "cells": [
  {
   "cell_type": "code",
   "execution_count": null,
   "id": "bda082b4-86de-4732-ac60-dc184b261595",
   "metadata": {},
   "outputs": [],
   "source": [
    "import torch\n",
    "import torch.nn as nn\n",
    "import torch.nn.functional as F\n",
    "from torchvision import models"
   ]
  },
  {
   "cell_type": "code",
   "execution_count": null,
   "id": "11ec1c55-626a-4f71-9b1c-04a3e73525cb",
   "metadata": {},
   "outputs": [],
   "source": [
    "class ASPPModule(nn.Module):\n",
    "    def __init__(self, in_channels, out_channels):\n",
    "        super(ASPPModule, self).__init__()\n",
    "\n",
    "        # 1x1 convolution\n",
    "        self.aspp1 = nn.Conv2d(in_channels, out_channels, kernel_size=1, stride=1, padding=0)\n",
    "        self.bn1 = nn.BatchNorm2d(out_channels)\n",
    "        \n",
    "        # 3x3 dilated convolution with rate=6\n",
    "        self.aspp2 = nn.Conv2d(in_channels, out_channels, kernel_size=3, stride=1, padding=6, dilation=6)\n",
    "        self.bn2 = nn.BatchNorm2d(out_channels)\n",
    "        \n",
    "        # 3x3 dilated convolution with rate=12\n",
    "        self.aspp3 = nn.Conv2d(in_channels, out_channels, kernel_size=3, stride=1, padding=12, dilation=12)\n",
    "        self.bn3 = nn.BatchNorm2d(out_channels)\n",
    "        \n",
    "        # 3x3 dilated convolution with rate=18\n",
    "        self.aspp4 = nn.Conv2d(in_channels, out_channels, kernel_size=3, stride=1, padding=18, dilation=18)\n",
    "        self.bn4 = nn.BatchNorm2d(out_channels)\n",
    "\n",
    "        # Global average pooling\n",
    "        self.global_avg_pool = nn.AdaptiveAvgPool2d(1)\n",
    "        self.conv1x1 = nn.Conv2d(in_channels, out_channels, kernel_size=1)\n",
    "        self.bn5 = nn.BatchNorm2d(out_channels)\n",
    "\n",
    "    def forward(self, x):\n",
    "        # Apply each dilated convolution with batch normalization and relu activation\n",
    "        x1 = F.relu(self.bn1(self.aspp1(x)))\n",
    "        x2 = F.relu(self.bn2(self.aspp2(x)))\n",
    "        x3 = F.relu(self.bn3(self.aspp3(x)))\n",
    "        x4 = F.relu(self.bn4(self.aspp4(x)))\n",
    "\n",
    "        # Global average pooling and a 1x1 convolution to reduce channels\n",
    "        x5 = F.relu(self.bn5(self.conv1x1(self.global_avg_pool(x))))\n",
    "\n",
    "        # Upsample global average pooling result to match the spatial size of the other branches\n",
    "        x5 = F.interpolate(x5, size=x4.shape[2:], mode='bilinear', align_corners=False)\n",
    "\n",
    "        # Concatenate all the outputs from each branch\n",
    "        x = torch.cat([x1, x2, x3, x4, x5], dim=1)\n",
    "\n",
    "        return x"
   ]
  },
  {
   "cell_type": "code",
   "execution_count": null,
   "id": "04fece78-0382-4f72-bb35-e77ad65e8afe",
   "metadata": {},
   "outputs": [],
   "source": []
  }
 ],
 "metadata": {
  "kernelspec": {
   "display_name": "Python 3 (ipykernel)",
   "language": "python",
   "name": "python3"
  },
  "language_info": {
   "codemirror_mode": {
    "name": "ipython",
    "version": 3
   },
   "file_extension": ".py",
   "mimetype": "text/x-python",
   "name": "python",
   "nbconvert_exporter": "python",
   "pygments_lexer": "ipython3",
   "version": "3.12.3"
  }
 },
 "nbformat": 4,
 "nbformat_minor": 5
}
